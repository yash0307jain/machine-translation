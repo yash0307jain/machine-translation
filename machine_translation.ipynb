{
 "cells": [
  {
   "cell_type": "markdown",
   "id": "f431aae1",
   "metadata": {},
   "source": [
    "# Import the necessary libraries"
   ]
  },
  {
   "cell_type": "code",
   "execution_count": 1,
   "id": "d6623d22",
   "metadata": {},
   "outputs": [],
   "source": [
    "import numpy as np\n",
    "import pandas as pd\n",
    "import matplotlib.pyplot as plt\n",
    "plt.style.use('fivethirtyeight')\n",
    "\n",
    "from sklearn.utils import shuffle\n",
    "from sklearn.model_selection import train_test_split\n",
    "\n",
    "import re\n",
    "import string\n",
    "from string import digits"
   ]
  },
  {
   "cell_type": "markdown",
   "id": "5f2d05f0",
   "metadata": {},
   "source": [
    "# Loading the data"
   ]
  },
  {
   "cell_type": "code",
   "execution_count": 2,
   "id": "2649a388",
   "metadata": {},
   "outputs": [
    {
     "data": {
      "text/html": [
       "<div>\n",
       "<style scoped>\n",
       "    .dataframe tbody tr th:only-of-type {\n",
       "        vertical-align: middle;\n",
       "    }\n",
       "\n",
       "    .dataframe tbody tr th {\n",
       "        vertical-align: top;\n",
       "    }\n",
       "\n",
       "    .dataframe thead th {\n",
       "        text-align: right;\n",
       "    }\n",
       "</style>\n",
       "<table border=\"1\" class=\"dataframe\">\n",
       "  <thead>\n",
       "    <tr style=\"text-align: right;\">\n",
       "      <th></th>\n",
       "      <th>source</th>\n",
       "      <th>english_sentence</th>\n",
       "      <th>hindi_sentence</th>\n",
       "    </tr>\n",
       "  </thead>\n",
       "  <tbody>\n",
       "    <tr>\n",
       "      <th>0</th>\n",
       "      <td>ted</td>\n",
       "      <td>politicians do not have permission to do what ...</td>\n",
       "      <td>राजनीतिज्ञों के पास जो कार्य करना चाहिए, वह कर...</td>\n",
       "    </tr>\n",
       "    <tr>\n",
       "      <th>1</th>\n",
       "      <td>ted</td>\n",
       "      <td>I'd like to tell you about one such child,</td>\n",
       "      <td>मई आपको ऐसे ही एक बच्चे के बारे में बताना चाहू...</td>\n",
       "    </tr>\n",
       "    <tr>\n",
       "      <th>2</th>\n",
       "      <td>indic2012</td>\n",
       "      <td>This percentage is even greater than the perce...</td>\n",
       "      <td>यह प्रतिशत भारत में हिन्दुओं प्रतिशत से अधिक है।</td>\n",
       "    </tr>\n",
       "    <tr>\n",
       "      <th>3</th>\n",
       "      <td>ted</td>\n",
       "      <td>what we really mean is that they're bad at not...</td>\n",
       "      <td>हम ये नहीं कहना चाहते कि वो ध्यान नहीं दे पाते</td>\n",
       "    </tr>\n",
       "    <tr>\n",
       "      <th>4</th>\n",
       "      <td>indic2012</td>\n",
       "      <td>.The ending portion of these Vedas is called U...</td>\n",
       "      <td>इन्हीं वेदों का अंतिम भाग उपनिषद कहलाता है।</td>\n",
       "    </tr>\n",
       "  </tbody>\n",
       "</table>\n",
       "</div>"
      ],
      "text/plain": [
       "      source                                   english_sentence  \\\n",
       "0        ted  politicians do not have permission to do what ...   \n",
       "1        ted         I'd like to tell you about one such child,   \n",
       "2  indic2012  This percentage is even greater than the perce...   \n",
       "3        ted  what we really mean is that they're bad at not...   \n",
       "4  indic2012  .The ending portion of these Vedas is called U...   \n",
       "\n",
       "                                      hindi_sentence  \n",
       "0  राजनीतिज्ञों के पास जो कार्य करना चाहिए, वह कर...  \n",
       "1  मई आपको ऐसे ही एक बच्चे के बारे में बताना चाहू...  \n",
       "2   यह प्रतिशत भारत में हिन्दुओं प्रतिशत से अधिक है।  \n",
       "3     हम ये नहीं कहना चाहते कि वो ध्यान नहीं दे पाते  \n",
       "4        इन्हीं वेदों का अंतिम भाग उपनिषद कहलाता है।  "
      ]
     },
     "execution_count": 2,
     "metadata": {},
     "output_type": "execute_result"
    }
   ],
   "source": [
    "df = pd.read_csv('Hindi_English_Truncated_Corpus.csv', encoding='utf-8')\n",
    "df.head()"
   ]
  },
  {
   "cell_type": "markdown",
   "id": "d6f4dbcf",
   "metadata": {},
   "source": [
    "# Preprocess the data"
   ]
  },
  {
   "cell_type": "code",
   "execution_count": 3,
   "id": "d1b0a0c4",
   "metadata": {},
   "outputs": [
    {
     "data": {
      "text/plain": [
       "tides        50000\n",
       "ted          39881\n",
       "indic2012    37726\n",
       "Name: source, dtype: int64"
      ]
     },
     "execution_count": 3,
     "metadata": {},
     "output_type": "execute_result"
    }
   ],
   "source": [
    "# count the specific values in source column\n",
    "df['source'].value_counts()"
   ]
  },
  {
   "cell_type": "code",
   "execution_count": 4,
   "id": "85b8f8c5",
   "metadata": {},
   "outputs": [
    {
     "data": {
      "text/html": [
       "<div>\n",
       "<style scoped>\n",
       "    .dataframe tbody tr th:only-of-type {\n",
       "        vertical-align: middle;\n",
       "    }\n",
       "\n",
       "    .dataframe tbody tr th {\n",
       "        vertical-align: top;\n",
       "    }\n",
       "\n",
       "    .dataframe thead th {\n",
       "        text-align: right;\n",
       "    }\n",
       "</style>\n",
       "<table border=\"1\" class=\"dataframe\">\n",
       "  <thead>\n",
       "    <tr style=\"text-align: right;\">\n",
       "      <th></th>\n",
       "      <th>source</th>\n",
       "      <th>english_sentence</th>\n",
       "      <th>hindi_sentence</th>\n",
       "    </tr>\n",
       "  </thead>\n",
       "  <tbody>\n",
       "    <tr>\n",
       "      <th>0</th>\n",
       "      <td>ted</td>\n",
       "      <td>politicians do not have permission to do what ...</td>\n",
       "      <td>राजनीतिज्ञों के पास जो कार्य करना चाहिए, वह कर...</td>\n",
       "    </tr>\n",
       "    <tr>\n",
       "      <th>1</th>\n",
       "      <td>ted</td>\n",
       "      <td>I'd like to tell you about one such child,</td>\n",
       "      <td>मई आपको ऐसे ही एक बच्चे के बारे में बताना चाहू...</td>\n",
       "    </tr>\n",
       "    <tr>\n",
       "      <th>3</th>\n",
       "      <td>ted</td>\n",
       "      <td>what we really mean is that they're bad at not...</td>\n",
       "      <td>हम ये नहीं कहना चाहते कि वो ध्यान नहीं दे पाते</td>\n",
       "    </tr>\n",
       "    <tr>\n",
       "      <th>7</th>\n",
       "      <td>ted</td>\n",
       "      <td>And who are we to say, even, that they are wrong</td>\n",
       "      <td>और हम होते कौन हैं यह कहने भी वाले कि वे गलत हैं</td>\n",
       "    </tr>\n",
       "    <tr>\n",
       "      <th>13</th>\n",
       "      <td>ted</td>\n",
       "      <td>So there is some sort of justice</td>\n",
       "      <td>तो वहाँ न्याय है</td>\n",
       "    </tr>\n",
       "  </tbody>\n",
       "</table>\n",
       "</div>"
      ],
      "text/plain": [
       "   source                                   english_sentence  \\\n",
       "0     ted  politicians do not have permission to do what ...   \n",
       "1     ted         I'd like to tell you about one such child,   \n",
       "3     ted  what we really mean is that they're bad at not...   \n",
       "7     ted   And who are we to say, even, that they are wrong   \n",
       "13    ted                   So there is some sort of justice   \n",
       "\n",
       "                                       hindi_sentence  \n",
       "0   राजनीतिज्ञों के पास जो कार्य करना चाहिए, वह कर...  \n",
       "1   मई आपको ऐसे ही एक बच्चे के बारे में बताना चाहू...  \n",
       "3      हम ये नहीं कहना चाहते कि वो ध्यान नहीं दे पाते  \n",
       "7    और हम होते कौन हैं यह कहने भी वाले कि वे गलत हैं  \n",
       "13                                   तो वहाँ न्याय है  "
      ]
     },
     "execution_count": 4,
     "metadata": {},
     "output_type": "execute_result"
    }
   ],
   "source": [
    "# filter data by keeing only rows with red source\n",
    "df = df[df['source'] == 'ted']\n",
    "df.head()"
   ]
  },
  {
   "cell_type": "code",
   "execution_count": 5,
   "id": "7698b68f",
   "metadata": {},
   "outputs": [
    {
     "data": {
      "text/html": [
       "<div>\n",
       "<style scoped>\n",
       "    .dataframe tbody tr th:only-of-type {\n",
       "        vertical-align: middle;\n",
       "    }\n",
       "\n",
       "    .dataframe tbody tr th {\n",
       "        vertical-align: top;\n",
       "    }\n",
       "\n",
       "    .dataframe thead th {\n",
       "        text-align: right;\n",
       "    }\n",
       "</style>\n",
       "<table border=\"1\" class=\"dataframe\">\n",
       "  <thead>\n",
       "    <tr style=\"text-align: right;\">\n",
       "      <th></th>\n",
       "      <th>source</th>\n",
       "      <th>english_sentence</th>\n",
       "      <th>hindi_sentence</th>\n",
       "    </tr>\n",
       "  </thead>\n",
       "  <tbody>\n",
       "    <tr>\n",
       "      <th>0</th>\n",
       "      <td>ted</td>\n",
       "      <td>politicians do not have permission to do what ...</td>\n",
       "      <td>राजनीतिज्ञों के पास जो कार्य करना चाहिए, वह कर...</td>\n",
       "    </tr>\n",
       "    <tr>\n",
       "      <th>1</th>\n",
       "      <td>ted</td>\n",
       "      <td>I'd like to tell you about one such child,</td>\n",
       "      <td>मई आपको ऐसे ही एक बच्चे के बारे में बताना चाहू...</td>\n",
       "    </tr>\n",
       "    <tr>\n",
       "      <th>2</th>\n",
       "      <td>ted</td>\n",
       "      <td>what we really mean is that they're bad at not...</td>\n",
       "      <td>हम ये नहीं कहना चाहते कि वो ध्यान नहीं दे पाते</td>\n",
       "    </tr>\n",
       "    <tr>\n",
       "      <th>3</th>\n",
       "      <td>ted</td>\n",
       "      <td>And who are we to say, even, that they are wrong</td>\n",
       "      <td>और हम होते कौन हैं यह कहने भी वाले कि वे गलत हैं</td>\n",
       "    </tr>\n",
       "    <tr>\n",
       "      <th>4</th>\n",
       "      <td>ted</td>\n",
       "      <td>So there is some sort of justice</td>\n",
       "      <td>तो वहाँ न्याय है</td>\n",
       "    </tr>\n",
       "  </tbody>\n",
       "</table>\n",
       "</div>"
      ],
      "text/plain": [
       "  source                                   english_sentence  \\\n",
       "0    ted  politicians do not have permission to do what ...   \n",
       "1    ted         I'd like to tell you about one such child,   \n",
       "2    ted  what we really mean is that they're bad at not...   \n",
       "3    ted   And who are we to say, even, that they are wrong   \n",
       "4    ted                   So there is some sort of justice   \n",
       "\n",
       "                                      hindi_sentence  \n",
       "0  राजनीतिज्ञों के पास जो कार्य करना चाहिए, वह कर...  \n",
       "1  मई आपको ऐसे ही एक बच्चे के बारे में बताना चाहू...  \n",
       "2     हम ये नहीं कहना चाहते कि वो ध्यान नहीं दे पाते  \n",
       "3   और हम होते कौन हैं यह कहने भी वाले कि वे गलत हैं  \n",
       "4                                   तो वहाँ न्याय है  "
      ]
     },
     "execution_count": 5,
     "metadata": {},
     "output_type": "execute_result"
    }
   ],
   "source": [
    "# resetting index after filtering the data\n",
    "df.reset_index(inplace=True, drop=True)\n",
    "df.head()"
   ]
  },
  {
   "cell_type": "code",
   "execution_count": 6,
   "id": "224ac74c",
   "metadata": {},
   "outputs": [],
   "source": [
    "# taking only required columns\n",
    "required_columns = ['english_sentence', 'hindi_sentence']\n",
    "df = df[required_columns]"
   ]
  },
  {
   "cell_type": "code",
   "execution_count": 7,
   "id": "48b7f584",
   "metadata": {},
   "outputs": [
    {
     "data": {
      "text/html": [
       "<div>\n",
       "<style scoped>\n",
       "    .dataframe tbody tr th:only-of-type {\n",
       "        vertical-align: middle;\n",
       "    }\n",
       "\n",
       "    .dataframe tbody tr th {\n",
       "        vertical-align: top;\n",
       "    }\n",
       "\n",
       "    .dataframe thead th {\n",
       "        text-align: right;\n",
       "    }\n",
       "</style>\n",
       "<table border=\"1\" class=\"dataframe\">\n",
       "  <thead>\n",
       "    <tr style=\"text-align: right;\">\n",
       "      <th></th>\n",
       "      <th>english_sentence</th>\n",
       "      <th>hindi_sentence</th>\n",
       "    </tr>\n",
       "  </thead>\n",
       "  <tbody>\n",
       "    <tr>\n",
       "      <th>0</th>\n",
       "      <td>politicians do not have permission to do what ...</td>\n",
       "      <td>राजनीतिज्ञों के पास जो कार्य करना चाहिए, वह कर...</td>\n",
       "    </tr>\n",
       "    <tr>\n",
       "      <th>1</th>\n",
       "      <td>I'd like to tell you about one such child,</td>\n",
       "      <td>मई आपको ऐसे ही एक बच्चे के बारे में बताना चाहू...</td>\n",
       "    </tr>\n",
       "    <tr>\n",
       "      <th>2</th>\n",
       "      <td>what we really mean is that they're bad at not...</td>\n",
       "      <td>हम ये नहीं कहना चाहते कि वो ध्यान नहीं दे पाते</td>\n",
       "    </tr>\n",
       "    <tr>\n",
       "      <th>3</th>\n",
       "      <td>And who are we to say, even, that they are wrong</td>\n",
       "      <td>और हम होते कौन हैं यह कहने भी वाले कि वे गलत हैं</td>\n",
       "    </tr>\n",
       "    <tr>\n",
       "      <th>4</th>\n",
       "      <td>So there is some sort of justice</td>\n",
       "      <td>तो वहाँ न्याय है</td>\n",
       "    </tr>\n",
       "  </tbody>\n",
       "</table>\n",
       "</div>"
      ],
      "text/plain": [
       "                                    english_sentence  \\\n",
       "0  politicians do not have permission to do what ...   \n",
       "1         I'd like to tell you about one such child,   \n",
       "2  what we really mean is that they're bad at not...   \n",
       "3   And who are we to say, even, that they are wrong   \n",
       "4                   So there is some sort of justice   \n",
       "\n",
       "                                      hindi_sentence  \n",
       "0  राजनीतिज्ञों के पास जो कार्य करना चाहिए, वह कर...  \n",
       "1  मई आपको ऐसे ही एक बच्चे के बारे में बताना चाहू...  \n",
       "2     हम ये नहीं कहना चाहते कि वो ध्यान नहीं दे पाते  \n",
       "3   और हम होते कौन हैं यह कहने भी वाले कि वे गलत हैं  \n",
       "4                                   तो वहाँ न्याय है  "
      ]
     },
     "execution_count": 7,
     "metadata": {},
     "output_type": "execute_result"
    }
   ],
   "source": [
    "df.head()"
   ]
  },
  {
   "cell_type": "code",
   "execution_count": 8,
   "id": "cb45d8d1",
   "metadata": {},
   "outputs": [
    {
     "data": {
      "text/plain": [
       "english_sentence    0\n",
       "hindi_sentence      0\n",
       "dtype: int64"
      ]
     },
     "execution_count": 8,
     "metadata": {},
     "output_type": "execute_result"
    }
   ],
   "source": [
    "# checking for the null values\n",
    "df.isnull().sum()"
   ]
  },
  {
   "cell_type": "code",
   "execution_count": 9,
   "id": "fdbda7b7",
   "metadata": {},
   "outputs": [
    {
     "data": {
      "text/plain": [
       "0        False\n",
       "1        False\n",
       "2        False\n",
       "3        False\n",
       "4        False\n",
       "         ...  \n",
       "39876    False\n",
       "39877    False\n",
       "39878     True\n",
       "39879    False\n",
       "39880    False\n",
       "Length: 39881, dtype: bool"
      ]
     },
     "execution_count": 9,
     "metadata": {},
     "output_type": "execute_result"
    }
   ],
   "source": [
    "# checking for the duplicate values\n",
    "df.duplicated()"
   ]
  },
  {
   "cell_type": "code",
   "execution_count": 10,
   "id": "3cb10d8f",
   "metadata": {},
   "outputs": [
    {
     "data": {
      "text/plain": [
       "(39881, 2)"
      ]
     },
     "execution_count": 10,
     "metadata": {},
     "output_type": "execute_result"
    }
   ],
   "source": [
    "# checking the shape of the dataframe\n",
    "df.shape"
   ]
  },
  {
   "cell_type": "code",
   "execution_count": 11,
   "id": "ee9d0703",
   "metadata": {},
   "outputs": [],
   "source": [
    "# remove the duplicates\n",
    "df.drop_duplicates(inplace=True)"
   ]
  },
  {
   "cell_type": "code",
   "execution_count": 12,
   "id": "b13fe4d1",
   "metadata": {},
   "outputs": [
    {
     "data": {
      "text/plain": [
       "(38803, 2)"
      ]
     },
     "execution_count": 12,
     "metadata": {},
     "output_type": "execute_result"
    }
   ],
   "source": [
    "# checking the shape of dataframes after removing the duplicates\n",
    "df.shape"
   ]
  },
  {
   "cell_type": "code",
   "execution_count": 13,
   "id": "13d32389",
   "metadata": {},
   "outputs": [
    {
     "data": {
      "text/plain": [
       "Index(['english_sentence', 'hindi_sentence'], dtype='object')"
      ]
     },
     "execution_count": 13,
     "metadata": {},
     "output_type": "execute_result"
    }
   ],
   "source": [
    "# getting names of the columns present\n",
    "df.columns"
   ]
  },
  {
   "cell_type": "code",
   "execution_count": 14,
   "id": "40326618",
   "metadata": {},
   "outputs": [],
   "source": [
    "# lower case all the characters\n",
    "df['english_sentence'] = df['english_sentence'].apply(lambda x: x.lower())\n",
    "df['hindi_sentence'] = df['hindi_sentence'].apply(lambda x: x.lower())"
   ]
  },
  {
   "cell_type": "code",
   "execution_count": 15,
   "id": "5dfe6574",
   "metadata": {},
   "outputs": [],
   "source": [
    "# remove quotes\n",
    "df['english_sentence'] = df['english_sentence'].apply(lambda x: re.sub(\"'\", '', x))\n",
    "df['hindi_sentence'] = df['hindi_sentence'].apply(lambda x: re.sub(\"'\", '', x))\n",
    "\n",
    "df['english_sentence'] = df['english_sentence'].apply(lambda x: re.sub(\"“\", '', x))\n",
    "df['hindi_sentence'] = df['hindi_sentence'].apply(lambda x: re.sub(\"“\", '', x))"
   ]
  },
  {
   "cell_type": "code",
   "execution_count": 16,
   "id": "31237fc3",
   "metadata": {},
   "outputs": [],
   "source": [
    "# set of punctuations\n",
    "exclude = set(string.punctuation)\n",
    "\n",
    "# remove all the special characters\n",
    "df['english_sentence'] = df['english_sentence'].apply(lambda x: ''.join(ch for ch in x if ch not in exclude))\n",
    "df['hindi_sentence'] = df['hindi_sentence'].apply(lambda x: ''.join(ch for ch in x if ch not in exclude))"
   ]
  },
  {
   "cell_type": "code",
   "execution_count": 17,
   "id": "33c653fd",
   "metadata": {},
   "outputs": [],
   "source": [
    "# trans of all the numbers\n",
    "remove_digits = str.maketrans('', '', digits)\n",
    "\n",
    "# remove all the digits\n",
    "df['english_sentence'] = df['english_sentence'].apply(lambda x: x.translate(remove_digits))\n",
    "df['hindi_sentence'] = df['hindi_sentence'].apply(lambda x: x.translate(remove_digits))\n",
    "\n",
    "# remove hindi digits\n",
    "df['hindi_sentence'] = df['hindi_sentence'].apply(lambda x: re.sub(\"[२३०८१५७९४६]\", \"\", x))"
   ]
  },
  {
   "cell_type": "code",
   "execution_count": 18,
   "id": "76d930fa",
   "metadata": {},
   "outputs": [],
   "source": [
    "# remove extra spaces\n",
    "df['english_sentence'] = df['english_sentence'].apply(lambda x: x.strip())\n",
    "df['hindi_sentence'] = df['hindi_sentence'].apply(lambda x: x.strip())\n",
    "\n",
    "df['english_sentence'] = df['english_sentence'].apply(lambda x: re.sub(\" +\", \" \", x))\n",
    "df['hindi_sentence'] = df['hindi_sentence'].apply(lambda x: re.sub(\" +\", \" \", x))"
   ]
  },
  {
   "cell_type": "code",
   "execution_count": 19,
   "id": "bb2669a7",
   "metadata": {},
   "outputs": [],
   "source": [
    "# add START and END token to the target string\n",
    "df['hindi_sentence'] = df['hindi_sentence'].apply(lambda x: 'START_ ' + x + ' _END')"
   ]
  },
  {
   "cell_type": "code",
   "execution_count": 20,
   "id": "36348451",
   "metadata": {},
   "outputs": [
    {
     "data": {
      "text/html": [
       "<div>\n",
       "<style scoped>\n",
       "    .dataframe tbody tr th:only-of-type {\n",
       "        vertical-align: middle;\n",
       "    }\n",
       "\n",
       "    .dataframe tbody tr th {\n",
       "        vertical-align: top;\n",
       "    }\n",
       "\n",
       "    .dataframe thead th {\n",
       "        text-align: right;\n",
       "    }\n",
       "</style>\n",
       "<table border=\"1\" class=\"dataframe\">\n",
       "  <thead>\n",
       "    <tr style=\"text-align: right;\">\n",
       "      <th></th>\n",
       "      <th>english_sentence</th>\n",
       "      <th>hindi_sentence</th>\n",
       "    </tr>\n",
       "  </thead>\n",
       "  <tbody>\n",
       "    <tr>\n",
       "      <th>0</th>\n",
       "      <td>politicians do not have permission to do what ...</td>\n",
       "      <td>START_ राजनीतिज्ञों के पास जो कार्य करना चाहिए...</td>\n",
       "    </tr>\n",
       "    <tr>\n",
       "      <th>1</th>\n",
       "      <td>id like to tell you about one such child</td>\n",
       "      <td>START_ मई आपको ऐसे ही एक बच्चे के बारे में बता...</td>\n",
       "    </tr>\n",
       "    <tr>\n",
       "      <th>2</th>\n",
       "      <td>what we really mean is that theyre bad at not ...</td>\n",
       "      <td>START_ हम ये नहीं कहना चाहते कि वो ध्यान नहीं ...</td>\n",
       "    </tr>\n",
       "    <tr>\n",
       "      <th>3</th>\n",
       "      <td>and who are we to say even that they are wrong</td>\n",
       "      <td>START_ और हम होते कौन हैं यह कहने भी वाले कि व...</td>\n",
       "    </tr>\n",
       "    <tr>\n",
       "      <th>4</th>\n",
       "      <td>so there is some sort of justice</td>\n",
       "      <td>START_ तो वहाँ न्याय है _END</td>\n",
       "    </tr>\n",
       "  </tbody>\n",
       "</table>\n",
       "</div>"
      ],
      "text/plain": [
       "                                    english_sentence  \\\n",
       "0  politicians do not have permission to do what ...   \n",
       "1           id like to tell you about one such child   \n",
       "2  what we really mean is that theyre bad at not ...   \n",
       "3     and who are we to say even that they are wrong   \n",
       "4                   so there is some sort of justice   \n",
       "\n",
       "                                      hindi_sentence  \n",
       "0  START_ राजनीतिज्ञों के पास जो कार्य करना चाहिए...  \n",
       "1  START_ मई आपको ऐसे ही एक बच्चे के बारे में बता...  \n",
       "2  START_ हम ये नहीं कहना चाहते कि वो ध्यान नहीं ...  \n",
       "3  START_ और हम होते कौन हैं यह कहने भी वाले कि व...  \n",
       "4                       START_ तो वहाँ न्याय है _END  "
      ]
     },
     "execution_count": 20,
     "metadata": {},
     "output_type": "execute_result"
    }
   ],
   "source": [
    "df.head()"
   ]
  },
  {
   "cell_type": "code",
   "execution_count": 21,
   "id": "9cf4522a",
   "metadata": {},
   "outputs": [],
   "source": [
    "# function to get the vocabulary of the words\n",
    "def get_vocab(df, col):\n",
    "    vocab = set()\n",
    "    for sent in df[col]:\n",
    "        for word in sent.split():\n",
    "            if word not in vocab:\n",
    "                vocab.add(word)\n",
    "    return vocab"
   ]
  },
  {
   "cell_type": "code",
   "execution_count": 22,
   "id": "e5519af6",
   "metadata": {},
   "outputs": [],
   "source": [
    "# get the vocabulary of the english word\n",
    "all_eng_words = get_vocab(df, 'english_sentence')\n",
    "all_hindi_words = get_vocab(df, 'hindi_sentence')"
   ]
  },
  {
   "cell_type": "code",
   "execution_count": 23,
   "id": "897dac67",
   "metadata": {},
   "outputs": [
    {
     "data": {
      "text/plain": [
       "(17007, 21945)"
      ]
     },
     "execution_count": 23,
     "metadata": {},
     "output_type": "execute_result"
    }
   ],
   "source": [
    "len(all_eng_words), len(all_hindi_words)"
   ]
  },
  {
   "cell_type": "code",
   "execution_count": 24,
   "id": "120d5712",
   "metadata": {},
   "outputs": [],
   "source": [
    "# length of the sentences\n",
    "df['length_eng_sentence'] = df['english_sentence'].apply(lambda x: len(x.split()))\n",
    "df['length_hin_sentence'] = df['hindi_sentence'].apply(lambda x: len(x.split()))"
   ]
  },
  {
   "cell_type": "code",
   "execution_count": 25,
   "id": "00465ca8",
   "metadata": {},
   "outputs": [
    {
     "data": {
      "text/html": [
       "<div>\n",
       "<style scoped>\n",
       "    .dataframe tbody tr th:only-of-type {\n",
       "        vertical-align: middle;\n",
       "    }\n",
       "\n",
       "    .dataframe tbody tr th {\n",
       "        vertical-align: top;\n",
       "    }\n",
       "\n",
       "    .dataframe thead th {\n",
       "        text-align: right;\n",
       "    }\n",
       "</style>\n",
       "<table border=\"1\" class=\"dataframe\">\n",
       "  <thead>\n",
       "    <tr style=\"text-align: right;\">\n",
       "      <th></th>\n",
       "      <th>english_sentence</th>\n",
       "      <th>hindi_sentence</th>\n",
       "      <th>length_eng_sentence</th>\n",
       "      <th>length_hin_sentence</th>\n",
       "    </tr>\n",
       "  </thead>\n",
       "  <tbody>\n",
       "    <tr>\n",
       "      <th>0</th>\n",
       "      <td>politicians do not have permission to do what ...</td>\n",
       "      <td>START_ राजनीतिज्ञों के पास जो कार्य करना चाहिए...</td>\n",
       "      <td>12</td>\n",
       "      <td>15</td>\n",
       "    </tr>\n",
       "    <tr>\n",
       "      <th>1</th>\n",
       "      <td>id like to tell you about one such child</td>\n",
       "      <td>START_ मई आपको ऐसे ही एक बच्चे के बारे में बता...</td>\n",
       "      <td>9</td>\n",
       "      <td>13</td>\n",
       "    </tr>\n",
       "    <tr>\n",
       "      <th>2</th>\n",
       "      <td>what we really mean is that theyre bad at not ...</td>\n",
       "      <td>START_ हम ये नहीं कहना चाहते कि वो ध्यान नहीं ...</td>\n",
       "      <td>12</td>\n",
       "      <td>13</td>\n",
       "    </tr>\n",
       "    <tr>\n",
       "      <th>3</th>\n",
       "      <td>and who are we to say even that they are wrong</td>\n",
       "      <td>START_ और हम होते कौन हैं यह कहने भी वाले कि व...</td>\n",
       "      <td>11</td>\n",
       "      <td>15</td>\n",
       "    </tr>\n",
       "    <tr>\n",
       "      <th>4</th>\n",
       "      <td>so there is some sort of justice</td>\n",
       "      <td>START_ तो वहाँ न्याय है _END</td>\n",
       "      <td>7</td>\n",
       "      <td>6</td>\n",
       "    </tr>\n",
       "  </tbody>\n",
       "</table>\n",
       "</div>"
      ],
      "text/plain": [
       "                                    english_sentence  \\\n",
       "0  politicians do not have permission to do what ...   \n",
       "1           id like to tell you about one such child   \n",
       "2  what we really mean is that theyre bad at not ...   \n",
       "3     and who are we to say even that they are wrong   \n",
       "4                   so there is some sort of justice   \n",
       "\n",
       "                                      hindi_sentence  length_eng_sentence  \\\n",
       "0  START_ राजनीतिज्ञों के पास जो कार्य करना चाहिए...                   12   \n",
       "1  START_ मई आपको ऐसे ही एक बच्चे के बारे में बता...                    9   \n",
       "2  START_ हम ये नहीं कहना चाहते कि वो ध्यान नहीं ...                   12   \n",
       "3  START_ और हम होते कौन हैं यह कहने भी वाले कि व...                   11   \n",
       "4                       START_ तो वहाँ न्याय है _END                    7   \n",
       "\n",
       "   length_hin_sentence  \n",
       "0                   15  \n",
       "1                   13  \n",
       "2                   13  \n",
       "3                   15  \n",
       "4                    6  "
      ]
     },
     "execution_count": 25,
     "metadata": {},
     "output_type": "execute_result"
    }
   ],
   "source": [
    "df.head()"
   ]
  },
  {
   "cell_type": "code",
   "execution_count": 26,
   "id": "b379b63b",
   "metadata": {},
   "outputs": [
    {
     "data": {
      "image/png": "[encoded data removed]",
      "text/plain": [
       "<Figure size 864x504 with 1 Axes>"
      ]
     },
     "metadata": {},
     "output_type": "display_data"
    }
   ],
   "source": [
    "# plot for the number of words in the english sentence\n",
    "plt.figure(figsize=(12, 7))\n",
    "df['length_eng_sentence'].plot()\n",
    "plt.title('Number of words in english sentences')\n",
    "plt.xlabel('Record')\n",
    "plt.ylabel('Word count')\n",
    "plt.legend()\n",
    "plt.show()"
   ]
  },
  {
   "cell_type": "code",
   "execution_count": 27,
   "id": "e517c8df",
   "metadata": {},
   "outputs": [],
   "source": [
    "# removing all the records whose length is 0 or greater then 20\n",
    "df = df[df['length_eng_sentence'] <= 20]\n",
    "df = df[df['length_eng_sentence'] > 0]"
   ]
  },
  {
   "cell_type": "code",
   "execution_count": 28,
   "id": "bfaaab23",
   "metadata": {},
   "outputs": [
    {
     "data": {
      "text/plain": [
       "(38798, 4)"
      ]
     },
     "execution_count": 28,
     "metadata": {},
     "output_type": "execute_result"
    }
   ],
   "source": [
    "df.shape"
   ]
  },
  {
   "cell_type": "code",
   "execution_count": 29,
   "id": "9e87725e",
   "metadata": {},
   "outputs": [
    {
     "data": {
      "image/png": "[encoded data removed]",
      "text/plain": [
       "<Figure size 864x504 with 1 Axes>"
      ]
     },
     "metadata": {},
     "output_type": "display_data"
    }
   ],
   "source": [
    "# plot for the number of words in the hindi sentence\n",
    "plt.figure(figsize=(12, 7))\n",
    "df['length_hin_sentence'].plot()\n",
    "plt.title('Number of words in hindi sentences')\n",
    "plt.xlabel('Record')\n",
    "plt.ylabel('Word count')\n",
    "plt.legend()\n",
    "plt.show()"
   ]
  },
  {
   "cell_type": "code",
   "execution_count": 30,
   "id": "de73701e",
   "metadata": {},
   "outputs": [],
   "source": [
    "# removing all the records whose length is 0 or greater then 20\n",
    "df = df[df['length_hin_sentence'] <= 20]\n",
    "df = df[df['length_hin_sentence'] > 0]"
   ]
  },
  {
   "cell_type": "code",
   "execution_count": 31,
   "id": "4d0b0bcb",
   "metadata": {},
   "outputs": [
    {
     "data": {
      "text/plain": [
       "(38472, 4)"
      ]
     },
     "execution_count": 31,
     "metadata": {},
     "output_type": "execute_result"
    }
   ],
   "source": [
    "df.shape"
   ]
  },
  {
   "cell_type": "code",
   "execution_count": 32,
   "id": "2b204e5b",
   "metadata": {},
   "outputs": [
    {
     "name": "stdout",
     "output_type": "stream",
     "text": [
      "Maximum length of english sentence: 20\n",
      "Maximum length of hindi sentence: 20\n"
     ]
    }
   ],
   "source": [
    "max_length_src = df['length_eng_sentence'].max()\n",
    "max_length_tar = df['length_hin_sentence'].max()\n",
    "\n",
    "print(\"Maximum length of english sentence:\", max_length_src)\n",
    "print(\"Maximum length of hindi sentence:\", max_length_tar)"
   ]
  },
  {
   "cell_type": "code",
   "execution_count": 33,
   "id": "8043715a",
   "metadata": {},
   "outputs": [
    {
     "data": {
      "text/plain": [
       "(17007, 21945)"
      ]
     },
     "execution_count": 33,
     "metadata": {},
     "output_type": "execute_result"
    }
   ],
   "source": [
    "input_words = sorted(list(all_eng_words))\n",
    "target_words = sorted(list(all_hindi_words))\n",
    "\n",
    "num_encoder_token = len(all_eng_words)\n",
    "num_decoder_token = len(all_hindi_words)\n",
    "\n",
    "num_encoder_token, num_decoder_token"
   ]
  },
  {
   "cell_type": "code",
   "execution_count": 34,
   "id": "addcd398",
   "metadata": {},
   "outputs": [],
   "source": [
    "# adding zero padding in decoder\n",
    "num_decoder_token += 1"
   ]
  },
  {
   "cell_type": "code",
   "execution_count": 35,
   "id": "dd807256",
   "metadata": {},
   "outputs": [],
   "source": [
    "# creating dictionary of index for input and target words\n",
    "input_token_index = dict((word, i+1) for i, word in enumerate(input_words))\n",
    "target_token_index = dict((word, i+1) for i, word in enumerate(target_words))"
   ]
  },
  {
   "cell_type": "code",
   "execution_count": 36,
   "id": "71f5b76d",
   "metadata": {},
   "outputs": [],
   "source": [
    "# creating dictionary of index for input and target words in reverse format\n",
    "reverse_input_token_index = dict((i, word) for word, i in input_token_index.items())\n",
    "reverse_target_token_index = dict((i, word) for word, i in enumerate(target_words))"
   ]
  },
  {
   "cell_type": "code",
   "execution_count": 37,
   "id": "69b4f175",
   "metadata": {},
   "outputs": [
    {
     "data": {
      "text/html": [
       "<div>\n",
       "<style scoped>\n",
       "    .dataframe tbody tr th:only-of-type {\n",
       "        vertical-align: middle;\n",
       "    }\n",
       "\n",
       "    .dataframe tbody tr th {\n",
       "        vertical-align: top;\n",
       "    }\n",
       "\n",
       "    .dataframe thead th {\n",
       "        text-align: right;\n",
       "    }\n",
       "</style>\n",
       "<table border=\"1\" class=\"dataframe\">\n",
       "  <thead>\n",
       "    <tr style=\"text-align: right;\">\n",
       "      <th></th>\n",
       "      <th>english_sentence</th>\n",
       "      <th>hindi_sentence</th>\n",
       "      <th>length_eng_sentence</th>\n",
       "      <th>length_hin_sentence</th>\n",
       "    </tr>\n",
       "  </thead>\n",
       "  <tbody>\n",
       "    <tr>\n",
       "      <th>29794</th>\n",
       "      <td>you can read the structure and the ideology of...</td>\n",
       "      <td>START_ आप एक देश के ढाँचे और सिद्धांत को पढ सक...</td>\n",
       "      <td>11</td>\n",
       "      <td>13</td>\n",
       "    </tr>\n",
       "    <tr>\n",
       "      <th>29879</th>\n",
       "      <td>i cant help it i live here</td>\n",
       "      <td>START_ क्योंकि मैं यहाँ रहती हूँ _END</td>\n",
       "      <td>7</td>\n",
       "      <td>7</td>\n",
       "    </tr>\n",
       "    <tr>\n",
       "      <th>38874</th>\n",
       "      <td>its a way of looking for natural explanations ...</td>\n",
       "      <td>START_ यह सभी घटनाएं के लिए प्राकृतिक स्पष्टीक...</td>\n",
       "      <td>11</td>\n",
       "      <td>14</td>\n",
       "    </tr>\n",
       "    <tr>\n",
       "      <th>414</th>\n",
       "      <td>that bottom thing which says theres no effect ...</td>\n",
       "      <td>START_ सबसे नीचे जो दिखाता है कि वहाँ कोई प्रभ...</td>\n",
       "      <td>10</td>\n",
       "      <td>13</td>\n",
       "    </tr>\n",
       "    <tr>\n",
       "      <th>26955</th>\n",
       "      <td>but benefits for the first time in ages</td>\n",
       "      <td>START_ बल्कि और भी फायदे जो पहली बार हुआ था _END</td>\n",
       "      <td>8</td>\n",
       "      <td>11</td>\n",
       "    </tr>\n",
       "  </tbody>\n",
       "</table>\n",
       "</div>"
      ],
      "text/plain": [
       "                                        english_sentence  \\\n",
       "29794  you can read the structure and the ideology of...   \n",
       "29879                         i cant help it i live here   \n",
       "38874  its a way of looking for natural explanations ...   \n",
       "414    that bottom thing which says theres no effect ...   \n",
       "26955            but benefits for the first time in ages   \n",
       "\n",
       "                                          hindi_sentence  length_eng_sentence  \\\n",
       "29794  START_ आप एक देश के ढाँचे और सिद्धांत को पढ सक...                   11   \n",
       "29879              START_ क्योंकि मैं यहाँ रहती हूँ _END                    7   \n",
       "38874  START_ यह सभी घटनाएं के लिए प्राकृतिक स्पष्टीक...                   11   \n",
       "414    START_ सबसे नीचे जो दिखाता है कि वहाँ कोई प्रभ...                   10   \n",
       "26955   START_ बल्कि और भी फायदे जो पहली बार हुआ था _END                    8   \n",
       "\n",
       "       length_hin_sentence  \n",
       "29794                   13  \n",
       "29879                    7  \n",
       "38874                   14  \n",
       "414                     13  \n",
       "26955                   11  "
      ]
     },
     "execution_count": 37,
     "metadata": {},
     "output_type": "execute_result"
    }
   ],
   "source": [
    "df = shuffle(df)\n",
    "df.head()"
   ]
  },
  {
   "cell_type": "markdown",
   "id": "593b112e",
   "metadata": {},
   "source": [
    "# Split the data"
   ]
  },
  {
   "cell_type": "code",
   "execution_count": 38,
   "id": "0b206f5b",
   "metadata": {},
   "outputs": [
    {
     "data": {
      "text/plain": [
       "((30777,), (7695,))"
      ]
     },
     "execution_count": 38,
     "metadata": {},
     "output_type": "execute_result"
    }
   ],
   "source": [
    "X, y = df['english_sentence'], df['hindi_sentence']\n",
    "X_train, X_test, y_train, y_test = train_test_split(X, y, test_size=0.2, random_state=42)\n",
    "X_train.shape, X_test.shape"
   ]
  },
  {
   "cell_type": "markdown",
   "id": "6b9c9cd8",
   "metadata": {},
   "source": [
    "# Save the data"
   ]
  },
  {
   "cell_type": "code",
   "execution_count": 39,
   "id": "836fdcd5",
   "metadata": {},
   "outputs": [],
   "source": [
    "X_train.to_pickle('pickle_data/X_train.pkl')\n",
    "y_train.to_pickle('pickle_data/y_train.pkl')\n",
    "\n",
    "X_test.to_pickle('pickle_data/X_test.pkl')\n",
    "y_test.to_pickle('pickle_data/y_test.pkl')"
   ]
  },
  {
   "cell_type": "code",
   "execution_count": null,
   "id": "23f3d45d",
   "metadata": {},
   "outputs": [],
   "source": [
    "def generate_batch(X = X_train, y = y_train, batch_size = 128):\n",
    "    ''' Generate a batch of data '''\n",
    "    while True:\n",
    "        for j in range(0, len(X), batch_size):\n",
    "            encoder_input_data = np.zeros((batch_size, max_length_src),dtype='float32')\n",
    "            decoder_input_data = np.zeros((batch_size, max_length_tar),dtype='float32')\n",
    "            decoder_target_data = np.zeros((batch_size, max_length_tar, num_decoder_tokens),dtype='float32')\n",
    "            for i, (input_text, target_text) in enumerate(zip(X[j:j+batch_size], y[j:j+batch_size])):\n",
    "                for t, word in enumerate(input_text.split()):\n",
    "                    encoder_input_data[i, t] = input_token_index[word] # encoder input seq\n",
    "                for t, word in enumerate(target_text.split()):\n",
    "                    if t<len(target_text.split())-1:\n",
    "                        decoder_input_data[i, t] = target_token_index[word] # decoder input seq\n",
    "                    if t>0:\n",
    "                        # decoder target sequence (one hot encoded)\n",
    "                        # does not include the START_ token\n",
    "                        # Offset by one timestep\n",
    "                        decoder_target_data[i, t - 1, target_token_index[word]] = 1.\n",
    "            yield([encoder_input_data, decoder_input_data], decoder_target_data)"
   ]
  },
  {
   "cell_type": "markdown",
   "id": "9c8a6cad",
   "metadata": {},
   "source": [
    "# Encoder decoder architecture"
   ]
  },
  {
   "cell_type": "code",
   "execution_count": null,
   "id": "3784da8e",
   "metadata": {},
   "outputs": [],
   "source": []
  }
 ],
 "metadata": {
  "kernelspec": {
   "display_name": "Python 3",
   "language": "python",
   "name": "python3"
  },
  "language_info": {
   "codemirror_mode": {
    "name": "ipython",
    "version": 3
   },
   "file_extension": ".py",
   "mimetype": "text/x-python",
   "name": "python",
   "nbconvert_exporter": "python",
   "pygments_lexer": "ipython3",
   "version": "3.6.13"
  }
 },
 "nbformat": 4,
 "nbformat_minor": 5
}
