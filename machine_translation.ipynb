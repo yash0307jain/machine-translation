{
 "cells": [
  {
   "cell_type": "markdown",
   "id": "f431aae1",
   "metadata": {
    "tags": []
   },
   "source": [
    "# Import the necessary libraries"
   ]
  },
  {
   "cell_type": "code",
   "execution_count": 1,
   "id": "d6623d22",
   "metadata": {},
   "outputs": [],
   "source": [
    "import numpy as np\n",
    "import pandas as pd\n",
    "import matplotlib.pyplot as plt\n",
    "plt.style.use('fivethirtyeight')\n",
    "\n",
    "from sklearn.utils import shuffle\n",
    "from sklearn.model_selection import train_test_split\n",
    "\n",
    "import tensorflow as tf\n",
    "\n",
    "import re\n",
    "import string\n",
    "from string import digits\n",
    "import pickle"
   ]
  },
  {
   "cell_type": "markdown",
   "id": "5f2d05f0",
   "metadata": {},
   "source": [
    "# Loading the data"
   ]
  },
  {
   "cell_type": "code",
   "execution_count": 2,
   "id": "2649a388",
   "metadata": {},
   "outputs": [
    {
     "data": {
      "text/html": [
       "<div>\n",
       "<style scoped>\n",
       "    .dataframe tbody tr th:only-of-type {\n",
       "        vertical-align: middle;\n",
       "    }\n",
       "\n",
       "    .dataframe tbody tr th {\n",
       "        vertical-align: top;\n",
       "    }\n",
       "\n",
       "    .dataframe thead th {\n",
       "        text-align: right;\n",
       "    }\n",
       "</style>\n",
       "<table border=\"1\" class=\"dataframe\">\n",
       "  <thead>\n",
       "    <tr style=\"text-align: right;\">\n",
       "      <th></th>\n",
       "      <th>source</th>\n",
       "      <th>english_sentence</th>\n",
       "      <th>hindi_sentence</th>\n",
       "    </tr>\n",
       "  </thead>\n",
       "  <tbody>\n",
       "    <tr>\n",
       "      <th>0</th>\n",
       "      <td>ted</td>\n",
       "      <td>politicians do not have permission to do what ...</td>\n",
       "      <td>राजनीतिज्ञों के पास जो कार्य करना चाहिए, वह कर...</td>\n",
       "    </tr>\n",
       "    <tr>\n",
       "      <th>1</th>\n",
       "      <td>ted</td>\n",
       "      <td>I'd like to tell you about one such child,</td>\n",
       "      <td>मई आपको ऐसे ही एक बच्चे के बारे में बताना चाहू...</td>\n",
       "    </tr>\n",
       "    <tr>\n",
       "      <th>2</th>\n",
       "      <td>indic2012</td>\n",
       "      <td>This percentage is even greater than the perce...</td>\n",
       "      <td>यह प्रतिशत भारत में हिन्दुओं प्रतिशत से अधिक है।</td>\n",
       "    </tr>\n",
       "    <tr>\n",
       "      <th>3</th>\n",
       "      <td>ted</td>\n",
       "      <td>what we really mean is that they're bad at not...</td>\n",
       "      <td>हम ये नहीं कहना चाहते कि वो ध्यान नहीं दे पाते</td>\n",
       "    </tr>\n",
       "    <tr>\n",
       "      <th>4</th>\n",
       "      <td>indic2012</td>\n",
       "      <td>.The ending portion of these Vedas is called U...</td>\n",
       "      <td>इन्हीं वेदों का अंतिम भाग उपनिषद कहलाता है।</td>\n",
       "    </tr>\n",
       "  </tbody>\n",
       "</table>\n",
       "</div>"
      ],
      "text/plain": [
       "      source                                   english_sentence  \\\n",
       "0        ted  politicians do not have permission to do what ...   \n",
       "1        ted         I'd like to tell you about one such child,   \n",
       "2  indic2012  This percentage is even greater than the perce...   \n",
       "3        ted  what we really mean is that they're bad at not...   \n",
       "4  indic2012  .The ending portion of these Vedas is called U...   \n",
       "\n",
       "                                      hindi_sentence  \n",
       "0  राजनीतिज्ञों के पास जो कार्य करना चाहिए, वह कर...  \n",
       "1  मई आपको ऐसे ही एक बच्चे के बारे में बताना चाहू...  \n",
       "2   यह प्रतिशत भारत में हिन्दुओं प्रतिशत से अधिक है।  \n",
       "3     हम ये नहीं कहना चाहते कि वो ध्यान नहीं दे पाते  \n",
       "4        इन्हीं वेदों का अंतिम भाग उपनिषद कहलाता है।  "
      ]
     },
     "execution_count": 2,
     "metadata": {},
     "output_type": "execute_result"
    }
   ],
   "source": [
    "df = pd.read_csv('Hindi_English_Truncated_Corpus.csv', encoding='utf-8')\n",
    "df.head()"
   ]
  },
  {
   "cell_type": "markdown",
   "id": "d6f4dbcf",
   "metadata": {
    "tags": []
   },
   "source": [
    "# Preprocess the data"
   ]
  },
  {
   "cell_type": "code",
   "execution_count": 3,
   "id": "d1b0a0c4",
   "metadata": {},
   "outputs": [
    {
     "data": {
      "text/plain": [
       "tides        50000\n",
       "ted          39881\n",
       "indic2012    37726\n",
       "Name: source, dtype: int64"
      ]
     },
     "execution_count": 3,
     "metadata": {},
     "output_type": "execute_result"
    }
   ],
   "source": [
    "# count the specific values in source column\n",
    "df['source'].value_counts()"
   ]
  },
  {
   "cell_type": "code",
   "execution_count": 4,
   "id": "85b8f8c5",
   "metadata": {},
   "outputs": [
    {
     "data": {
      "text/html": [
       "<div>\n",
       "<style scoped>\n",
       "    .dataframe tbody tr th:only-of-type {\n",
       "        vertical-align: middle;\n",
       "    }\n",
       "\n",
       "    .dataframe tbody tr th {\n",
       "        vertical-align: top;\n",
       "    }\n",
       "\n",
       "    .dataframe thead th {\n",
       "        text-align: right;\n",
       "    }\n",
       "</style>\n",
       "<table border=\"1\" class=\"dataframe\">\n",
       "  <thead>\n",
       "    <tr style=\"text-align: right;\">\n",
       "      <th></th>\n",
       "      <th>source</th>\n",
       "      <th>english_sentence</th>\n",
       "      <th>hindi_sentence</th>\n",
       "    </tr>\n",
       "  </thead>\n",
       "  <tbody>\n",
       "    <tr>\n",
       "      <th>0</th>\n",
       "      <td>ted</td>\n",
       "      <td>politicians do not have permission to do what ...</td>\n",
       "      <td>राजनीतिज्ञों के पास जो कार्य करना चाहिए, वह कर...</td>\n",
       "    </tr>\n",
       "    <tr>\n",
       "      <th>1</th>\n",
       "      <td>ted</td>\n",
       "      <td>I'd like to tell you about one such child,</td>\n",
       "      <td>मई आपको ऐसे ही एक बच्चे के बारे में बताना चाहू...</td>\n",
       "    </tr>\n",
       "    <tr>\n",
       "      <th>3</th>\n",
       "      <td>ted</td>\n",
       "      <td>what we really mean is that they're bad at not...</td>\n",
       "      <td>हम ये नहीं कहना चाहते कि वो ध्यान नहीं दे पाते</td>\n",
       "    </tr>\n",
       "    <tr>\n",
       "      <th>7</th>\n",
       "      <td>ted</td>\n",
       "      <td>And who are we to say, even, that they are wrong</td>\n",
       "      <td>और हम होते कौन हैं यह कहने भी वाले कि वे गलत हैं</td>\n",
       "    </tr>\n",
       "    <tr>\n",
       "      <th>13</th>\n",
       "      <td>ted</td>\n",
       "      <td>So there is some sort of justice</td>\n",
       "      <td>तो वहाँ न्याय है</td>\n",
       "    </tr>\n",
       "  </tbody>\n",
       "</table>\n",
       "</div>"
      ],
      "text/plain": [
       "   source                                   english_sentence  \\\n",
       "0     ted  politicians do not have permission to do what ...   \n",
       "1     ted         I'd like to tell you about one such child,   \n",
       "3     ted  what we really mean is that they're bad at not...   \n",
       "7     ted   And who are we to say, even, that they are wrong   \n",
       "13    ted                   So there is some sort of justice   \n",
       "\n",
       "                                       hindi_sentence  \n",
       "0   राजनीतिज्ञों के पास जो कार्य करना चाहिए, वह कर...  \n",
       "1   मई आपको ऐसे ही एक बच्चे के बारे में बताना चाहू...  \n",
       "3      हम ये नहीं कहना चाहते कि वो ध्यान नहीं दे पाते  \n",
       "7    और हम होते कौन हैं यह कहने भी वाले कि वे गलत हैं  \n",
       "13                                   तो वहाँ न्याय है  "
      ]
     },
     "execution_count": 4,
     "metadata": {},
     "output_type": "execute_result"
    }
   ],
   "source": [
    "# filter data by keeing only rows with red source\n",
    "df = df[df['source'] == 'ted']\n",
    "df.head()"
   ]
  },
  {
   "cell_type": "code",
   "execution_count": 5,
   "id": "7698b68f",
   "metadata": {},
   "outputs": [
    {
     "data": {
      "text/html": [
       "<div>\n",
       "<style scoped>\n",
       "    .dataframe tbody tr th:only-of-type {\n",
       "        vertical-align: middle;\n",
       "    }\n",
       "\n",
       "    .dataframe tbody tr th {\n",
       "        vertical-align: top;\n",
       "    }\n",
       "\n",
       "    .dataframe thead th {\n",
       "        text-align: right;\n",
       "    }\n",
       "</style>\n",
       "<table border=\"1\" class=\"dataframe\">\n",
       "  <thead>\n",
       "    <tr style=\"text-align: right;\">\n",
       "      <th></th>\n",
       "      <th>source</th>\n",
       "      <th>english_sentence</th>\n",
       "      <th>hindi_sentence</th>\n",
       "    </tr>\n",
       "  </thead>\n",
       "  <tbody>\n",
       "    <tr>\n",
       "      <th>0</th>\n",
       "      <td>ted</td>\n",
       "      <td>politicians do not have permission to do what ...</td>\n",
       "      <td>राजनीतिज्ञों के पास जो कार्य करना चाहिए, वह कर...</td>\n",
       "    </tr>\n",
       "    <tr>\n",
       "      <th>1</th>\n",
       "      <td>ted</td>\n",
       "      <td>I'd like to tell you about one such child,</td>\n",
       "      <td>मई आपको ऐसे ही एक बच्चे के बारे में बताना चाहू...</td>\n",
       "    </tr>\n",
       "    <tr>\n",
       "      <th>2</th>\n",
       "      <td>ted</td>\n",
       "      <td>what we really mean is that they're bad at not...</td>\n",
       "      <td>हम ये नहीं कहना चाहते कि वो ध्यान नहीं दे पाते</td>\n",
       "    </tr>\n",
       "    <tr>\n",
       "      <th>3</th>\n",
       "      <td>ted</td>\n",
       "      <td>And who are we to say, even, that they are wrong</td>\n",
       "      <td>और हम होते कौन हैं यह कहने भी वाले कि वे गलत हैं</td>\n",
       "    </tr>\n",
       "    <tr>\n",
       "      <th>4</th>\n",
       "      <td>ted</td>\n",
       "      <td>So there is some sort of justice</td>\n",
       "      <td>तो वहाँ न्याय है</td>\n",
       "    </tr>\n",
       "  </tbody>\n",
       "</table>\n",
       "</div>"
      ],
      "text/plain": [
       "  source                                   english_sentence  \\\n",
       "0    ted  politicians do not have permission to do what ...   \n",
       "1    ted         I'd like to tell you about one such child,   \n",
       "2    ted  what we really mean is that they're bad at not...   \n",
       "3    ted   And who are we to say, even, that they are wrong   \n",
       "4    ted                   So there is some sort of justice   \n",
       "\n",
       "                                      hindi_sentence  \n",
       "0  राजनीतिज्ञों के पास जो कार्य करना चाहिए, वह कर...  \n",
       "1  मई आपको ऐसे ही एक बच्चे के बारे में बताना चाहू...  \n",
       "2     हम ये नहीं कहना चाहते कि वो ध्यान नहीं दे पाते  \n",
       "3   और हम होते कौन हैं यह कहने भी वाले कि वे गलत हैं  \n",
       "4                                   तो वहाँ न्याय है  "
      ]
     },
     "execution_count": 5,
     "metadata": {},
     "output_type": "execute_result"
    }
   ],
   "source": [
    "# resetting index after filtering the data\n",
    "df.reset_index(inplace=True, drop=True)\n",
    "df.head()"
   ]
  },
  {
   "cell_type": "code",
   "execution_count": 6,
   "id": "224ac74c",
   "metadata": {},
   "outputs": [],
   "source": [
    "# taking only required columns\n",
    "required_columns = ['english_sentence', 'hindi_sentence']\n",
    "df = df[required_columns]"
   ]
  },
  {
   "cell_type": "code",
   "execution_count": 7,
   "id": "48b7f584",
   "metadata": {},
   "outputs": [
    {
     "data": {
      "text/html": [
       "<div>\n",
       "<style scoped>\n",
       "    .dataframe tbody tr th:only-of-type {\n",
       "        vertical-align: middle;\n",
       "    }\n",
       "\n",
       "    .dataframe tbody tr th {\n",
       "        vertical-align: top;\n",
       "    }\n",
       "\n",
       "    .dataframe thead th {\n",
       "        text-align: right;\n",
       "    }\n",
       "</style>\n",
       "<table border=\"1\" class=\"dataframe\">\n",
       "  <thead>\n",
       "    <tr style=\"text-align: right;\">\n",
       "      <th></th>\n",
       "      <th>english_sentence</th>\n",
       "      <th>hindi_sentence</th>\n",
       "    </tr>\n",
       "  </thead>\n",
       "  <tbody>\n",
       "    <tr>\n",
       "      <th>0</th>\n",
       "      <td>politicians do not have permission to do what ...</td>\n",
       "      <td>राजनीतिज्ञों के पास जो कार्य करना चाहिए, वह कर...</td>\n",
       "    </tr>\n",
       "    <tr>\n",
       "      <th>1</th>\n",
       "      <td>I'd like to tell you about one such child,</td>\n",
       "      <td>मई आपको ऐसे ही एक बच्चे के बारे में बताना चाहू...</td>\n",
       "    </tr>\n",
       "    <tr>\n",
       "      <th>2</th>\n",
       "      <td>what we really mean is that they're bad at not...</td>\n",
       "      <td>हम ये नहीं कहना चाहते कि वो ध्यान नहीं दे पाते</td>\n",
       "    </tr>\n",
       "    <tr>\n",
       "      <th>3</th>\n",
       "      <td>And who are we to say, even, that they are wrong</td>\n",
       "      <td>और हम होते कौन हैं यह कहने भी वाले कि वे गलत हैं</td>\n",
       "    </tr>\n",
       "    <tr>\n",
       "      <th>4</th>\n",
       "      <td>So there is some sort of justice</td>\n",
       "      <td>तो वहाँ न्याय है</td>\n",
       "    </tr>\n",
       "  </tbody>\n",
       "</table>\n",
       "</div>"
      ],
      "text/plain": [
       "                                    english_sentence  \\\n",
       "0  politicians do not have permission to do what ...   \n",
       "1         I'd like to tell you about one such child,   \n",
       "2  what we really mean is that they're bad at not...   \n",
       "3   And who are we to say, even, that they are wrong   \n",
       "4                   So there is some sort of justice   \n",
       "\n",
       "                                      hindi_sentence  \n",
       "0  राजनीतिज्ञों के पास जो कार्य करना चाहिए, वह कर...  \n",
       "1  मई आपको ऐसे ही एक बच्चे के बारे में बताना चाहू...  \n",
       "2     हम ये नहीं कहना चाहते कि वो ध्यान नहीं दे पाते  \n",
       "3   और हम होते कौन हैं यह कहने भी वाले कि वे गलत हैं  \n",
       "4                                   तो वहाँ न्याय है  "
      ]
     },
     "execution_count": 7,
     "metadata": {},
     "output_type": "execute_result"
    }
   ],
   "source": [
    "df.head()"
   ]
  },
  {
   "cell_type": "code",
   "execution_count": 8,
   "id": "cb45d8d1",
   "metadata": {},
   "outputs": [
    {
     "data": {
      "text/plain": [
       "english_sentence    0\n",
       "hindi_sentence      0\n",
       "dtype: int64"
      ]
     },
     "execution_count": 8,
     "metadata": {},
     "output_type": "execute_result"
    }
   ],
   "source": [
    "# checking for the null values\n",
    "df.isnull().sum()"
   ]
  },
  {
   "cell_type": "code",
   "execution_count": 9,
   "id": "fdbda7b7",
   "metadata": {},
   "outputs": [
    {
     "data": {
      "text/plain": [
       "0        False\n",
       "1        False\n",
       "2        False\n",
       "3        False\n",
       "4        False\n",
       "         ...  \n",
       "39876    False\n",
       "39877    False\n",
       "39878     True\n",
       "39879    False\n",
       "39880    False\n",
       "Length: 39881, dtype: bool"
      ]
     },
     "execution_count": 9,
     "metadata": {},
     "output_type": "execute_result"
    }
   ],
   "source": [
    "# checking for the duplicate values\n",
    "df.duplicated()"
   ]
  },
  {
   "cell_type": "code",
   "execution_count": 10,
   "id": "3cb10d8f",
   "metadata": {},
   "outputs": [
    {
     "data": {
      "text/plain": [
       "(39881, 2)"
      ]
     },
     "execution_count": 10,
     "metadata": {},
     "output_type": "execute_result"
    }
   ],
   "source": [
    "# checking the shape of the dataframe\n",
    "df.shape"
   ]
  },
  {
   "cell_type": "code",
   "execution_count": 11,
   "id": "ee9d0703",
   "metadata": {},
   "outputs": [],
   "source": [
    "# remove the duplicates\n",
    "df.drop_duplicates(inplace=True)"
   ]
  },
  {
   "cell_type": "code",
   "execution_count": 12,
   "id": "b13fe4d1",
   "metadata": {},
   "outputs": [
    {
     "data": {
      "text/plain": [
       "(38803, 2)"
      ]
     },
     "execution_count": 12,
     "metadata": {},
     "output_type": "execute_result"
    }
   ],
   "source": [
    "# checking the shape of dataframes after removing the duplicates\n",
    "df.shape"
   ]
  },
  {
   "cell_type": "code",
   "execution_count": 13,
   "id": "13d32389",
   "metadata": {},
   "outputs": [
    {
     "data": {
      "text/plain": [
       "Index(['english_sentence', 'hindi_sentence'], dtype='object')"
      ]
     },
     "execution_count": 13,
     "metadata": {},
     "output_type": "execute_result"
    }
   ],
   "source": [
    "# getting names of the columns present\n",
    "df.columns"
   ]
  },
  {
   "cell_type": "code",
   "execution_count": 14,
   "id": "40326618",
   "metadata": {},
   "outputs": [],
   "source": [
    "# lower case all the characters\n",
    "df['english_sentence'] = df['english_sentence'].apply(lambda x: x.lower())\n",
    "df['hindi_sentence'] = df['hindi_sentence'].apply(lambda x: x.lower())"
   ]
  },
  {
   "cell_type": "code",
   "execution_count": 15,
   "id": "5dfe6574",
   "metadata": {},
   "outputs": [],
   "source": [
    "# remove quotes\n",
    "df['english_sentence'] = df['english_sentence'].apply(lambda x: re.sub(\"'\", '', x))\n",
    "df['hindi_sentence'] = df['hindi_sentence'].apply(lambda x: re.sub(\"'\", '', x))\n",
    "\n",
    "df['english_sentence'] = df['english_sentence'].apply(lambda x: re.sub(\"“\", '', x))\n",
    "df['hindi_sentence'] = df['hindi_sentence'].apply(lambda x: re.sub(\"“\", '', x))\n",
    "\n",
    "df['english_sentence'] = df['english_sentence'].apply(lambda x: re.sub(\"”\", '', x))\n",
    "df['hindi_sentence'] = df['hindi_sentence'].apply(lambda x: re.sub(\"”\", '', x))"
   ]
  },
  {
   "cell_type": "code",
   "execution_count": 16,
   "id": "31237fc3",
   "metadata": {},
   "outputs": [],
   "source": [
    "# set of punctuations\n",
    "exclude = set(string.punctuation)\n",
    "\n",
    "# remove all the special characters\n",
    "df['english_sentence'] = df['english_sentence'].apply(lambda x: ''.join(ch for ch in x if ch not in exclude))\n",
    "df['hindi_sentence'] = df['hindi_sentence'].apply(lambda x: ''.join(ch for ch in x if ch not in exclude))"
   ]
  },
  {
   "cell_type": "code",
   "execution_count": 17,
   "id": "33c653fd",
   "metadata": {},
   "outputs": [],
   "source": [
    "# trans of all the numbers\n",
    "remove_digits = str.maketrans('', '', digits)\n",
    "\n",
    "# remove all the digits\n",
    "df['english_sentence'] = df['english_sentence'].apply(lambda x: x.translate(remove_digits))\n",
    "df['hindi_sentence'] = df['hindi_sentence'].apply(lambda x: x.translate(remove_digits))\n",
    "\n",
    "# remove hindi digits\n",
    "df['hindi_sentence'] = df['hindi_sentence'].apply(lambda x: re.sub(\"[२३०८१५७९४६]\", \"\", x))"
   ]
  },
  {
   "cell_type": "code",
   "execution_count": 18,
   "id": "76d930fa",
   "metadata": {},
   "outputs": [],
   "source": [
    "# remove extra spaces\n",
    "df['english_sentence'] = df['english_sentence'].apply(lambda x: x.strip())\n",
    "df['hindi_sentence'] = df['hindi_sentence'].apply(lambda x: x.strip())\n",
    "\n",
    "df['english_sentence'] = df['english_sentence'].apply(lambda x: re.sub(\" +\", \" \", x))\n",
    "df['hindi_sentence'] = df['hindi_sentence'].apply(lambda x: re.sub(\" +\", \" \", x))"
   ]
  },
  {
   "cell_type": "code",
   "execution_count": 19,
   "id": "bb2669a7",
   "metadata": {},
   "outputs": [],
   "source": [
    "# add START and END token to the target string\n",
    "df['hindi_sentence'] = df['hindi_sentence'].apply(lambda x: 'START_ ' + x + ' _END')"
   ]
  },
  {
   "cell_type": "code",
   "execution_count": 20,
   "id": "36348451",
   "metadata": {},
   "outputs": [
    {
     "data": {
      "text/html": [
       "<div>\n",
       "<style scoped>\n",
       "    .dataframe tbody tr th:only-of-type {\n",
       "        vertical-align: middle;\n",
       "    }\n",
       "\n",
       "    .dataframe tbody tr th {\n",
       "        vertical-align: top;\n",
       "    }\n",
       "\n",
       "    .dataframe thead th {\n",
       "        text-align: right;\n",
       "    }\n",
       "</style>\n",
       "<table border=\"1\" class=\"dataframe\">\n",
       "  <thead>\n",
       "    <tr style=\"text-align: right;\">\n",
       "      <th></th>\n",
       "      <th>english_sentence</th>\n",
       "      <th>hindi_sentence</th>\n",
       "    </tr>\n",
       "  </thead>\n",
       "  <tbody>\n",
       "    <tr>\n",
       "      <th>0</th>\n",
       "      <td>politicians do not have permission to do what ...</td>\n",
       "      <td>START_ राजनीतिज्ञों के पास जो कार्य करना चाहिए...</td>\n",
       "    </tr>\n",
       "    <tr>\n",
       "      <th>1</th>\n",
       "      <td>id like to tell you about one such child</td>\n",
       "      <td>START_ मई आपको ऐसे ही एक बच्चे के बारे में बता...</td>\n",
       "    </tr>\n",
       "    <tr>\n",
       "      <th>2</th>\n",
       "      <td>what we really mean is that theyre bad at not ...</td>\n",
       "      <td>START_ हम ये नहीं कहना चाहते कि वो ध्यान नहीं ...</td>\n",
       "    </tr>\n",
       "    <tr>\n",
       "      <th>3</th>\n",
       "      <td>and who are we to say even that they are wrong</td>\n",
       "      <td>START_ और हम होते कौन हैं यह कहने भी वाले कि व...</td>\n",
       "    </tr>\n",
       "    <tr>\n",
       "      <th>4</th>\n",
       "      <td>so there is some sort of justice</td>\n",
       "      <td>START_ तो वहाँ न्याय है _END</td>\n",
       "    </tr>\n",
       "  </tbody>\n",
       "</table>\n",
       "</div>"
      ],
      "text/plain": [
       "                                    english_sentence  \\\n",
       "0  politicians do not have permission to do what ...   \n",
       "1           id like to tell you about one such child   \n",
       "2  what we really mean is that theyre bad at not ...   \n",
       "3     and who are we to say even that they are wrong   \n",
       "4                   so there is some sort of justice   \n",
       "\n",
       "                                      hindi_sentence  \n",
       "0  START_ राजनीतिज्ञों के पास जो कार्य करना चाहिए...  \n",
       "1  START_ मई आपको ऐसे ही एक बच्चे के बारे में बता...  \n",
       "2  START_ हम ये नहीं कहना चाहते कि वो ध्यान नहीं ...  \n",
       "3  START_ और हम होते कौन हैं यह कहने भी वाले कि व...  \n",
       "4                       START_ तो वहाँ न्याय है _END  "
      ]
     },
     "execution_count": 20,
     "metadata": {},
     "output_type": "execute_result"
    }
   ],
   "source": [
    "df.head()"
   ]
  },
  {
   "cell_type": "code",
   "execution_count": 21,
   "id": "9cf4522a",
   "metadata": {},
   "outputs": [],
   "source": [
    "# function to get the vocabulary of the words\n",
    "def get_vocab(df, col):\n",
    "    vocab = set()\n",
    "    for sent in df[col]:\n",
    "        for word in sent.split():\n",
    "            if word not in vocab:\n",
    "                vocab.add(word)\n",
    "    return vocab"
   ]
  },
  {
   "cell_type": "code",
   "execution_count": 22,
   "id": "e5519af6",
   "metadata": {},
   "outputs": [],
   "source": [
    "# get the vocabulary of the english word\n",
    "all_eng_words = get_vocab(df, 'english_sentence')\n",
    "all_hindi_words = get_vocab(df, 'hindi_sentence')"
   ]
  },
  {
   "cell_type": "code",
   "execution_count": 23,
   "id": "897dac67",
   "metadata": {},
   "outputs": [
    {
     "data": {
      "text/plain": [
       "(16293, 21587)"
      ]
     },
     "execution_count": 23,
     "metadata": {},
     "output_type": "execute_result"
    }
   ],
   "source": [
    "len(all_eng_words), len(all_hindi_words)"
   ]
  },
  {
   "cell_type": "code",
   "execution_count": 24,
   "id": "120d5712",
   "metadata": {},
   "outputs": [],
   "source": [
    "# length of the sentences\n",
    "df['length_eng_sentence'] = df['english_sentence'].apply(lambda x: len(x.split()))\n",
    "df['length_hin_sentence'] = df['hindi_sentence'].apply(lambda x: len(x.split()))"
   ]
  },
  {
   "cell_type": "code",
   "execution_count": 25,
   "id": "00465ca8",
   "metadata": {},
   "outputs": [
    {
     "data": {
      "text/html": [
       "<div>\n",
       "<style scoped>\n",
       "    .dataframe tbody tr th:only-of-type {\n",
       "        vertical-align: middle;\n",
       "    }\n",
       "\n",
       "    .dataframe tbody tr th {\n",
       "        vertical-align: top;\n",
       "    }\n",
       "\n",
       "    .dataframe thead th {\n",
       "        text-align: right;\n",
       "    }\n",
       "</style>\n",
       "<table border=\"1\" class=\"dataframe\">\n",
       "  <thead>\n",
       "    <tr style=\"text-align: right;\">\n",
       "      <th></th>\n",
       "      <th>english_sentence</th>\n",
       "      <th>hindi_sentence</th>\n",
       "      <th>length_eng_sentence</th>\n",
       "      <th>length_hin_sentence</th>\n",
       "    </tr>\n",
       "  </thead>\n",
       "  <tbody>\n",
       "    <tr>\n",
       "      <th>0</th>\n",
       "      <td>politicians do not have permission to do what ...</td>\n",
       "      <td>START_ राजनीतिज्ञों के पास जो कार्य करना चाहिए...</td>\n",
       "      <td>12</td>\n",
       "      <td>15</td>\n",
       "    </tr>\n",
       "    <tr>\n",
       "      <th>1</th>\n",
       "      <td>id like to tell you about one such child</td>\n",
       "      <td>START_ मई आपको ऐसे ही एक बच्चे के बारे में बता...</td>\n",
       "      <td>9</td>\n",
       "      <td>13</td>\n",
       "    </tr>\n",
       "    <tr>\n",
       "      <th>2</th>\n",
       "      <td>what we really mean is that theyre bad at not ...</td>\n",
       "      <td>START_ हम ये नहीं कहना चाहते कि वो ध्यान नहीं ...</td>\n",
       "      <td>12</td>\n",
       "      <td>13</td>\n",
       "    </tr>\n",
       "    <tr>\n",
       "      <th>3</th>\n",
       "      <td>and who are we to say even that they are wrong</td>\n",
       "      <td>START_ और हम होते कौन हैं यह कहने भी वाले कि व...</td>\n",
       "      <td>11</td>\n",
       "      <td>15</td>\n",
       "    </tr>\n",
       "    <tr>\n",
       "      <th>4</th>\n",
       "      <td>so there is some sort of justice</td>\n",
       "      <td>START_ तो वहाँ न्याय है _END</td>\n",
       "      <td>7</td>\n",
       "      <td>6</td>\n",
       "    </tr>\n",
       "  </tbody>\n",
       "</table>\n",
       "</div>"
      ],
      "text/plain": [
       "                                    english_sentence  \\\n",
       "0  politicians do not have permission to do what ...   \n",
       "1           id like to tell you about one such child   \n",
       "2  what we really mean is that theyre bad at not ...   \n",
       "3     and who are we to say even that they are wrong   \n",
       "4                   so there is some sort of justice   \n",
       "\n",
       "                                      hindi_sentence  length_eng_sentence  \\\n",
       "0  START_ राजनीतिज्ञों के पास जो कार्य करना चाहिए...                   12   \n",
       "1  START_ मई आपको ऐसे ही एक बच्चे के बारे में बता...                    9   \n",
       "2  START_ हम ये नहीं कहना चाहते कि वो ध्यान नहीं ...                   12   \n",
       "3  START_ और हम होते कौन हैं यह कहने भी वाले कि व...                   11   \n",
       "4                       START_ तो वहाँ न्याय है _END                    7   \n",
       "\n",
       "   length_hin_sentence  \n",
       "0                   15  \n",
       "1                   13  \n",
       "2                   13  \n",
       "3                   15  \n",
       "4                    6  "
      ]
     },
     "execution_count": 25,
     "metadata": {},
     "output_type": "execute_result"
    }
   ],
   "source": [
    "df.head()"
   ]
  },
  {
   "cell_type": "code",
   "execution_count": 26,
   "id": "b379b63b",
   "metadata": {},
   "outputs": [
    {
     "data": {
      "image/png": "[encoded data removed]",
      "text/plain": [
       "<Figure size 864x504 with 1 Axes>"
      ]
     },
     "metadata": {},
     "output_type": "display_data"
    }
   ],
   "source": [
    "# plot for the number of words in the english sentence\n",
    "plt.figure(figsize=(12, 7))\n",
    "df['length_eng_sentence'].plot()\n",
    "plt.title('Number of words in english sentences')\n",
    "plt.xlabel('Record')\n",
    "plt.ylabel('Word count')\n",
    "plt.legend()\n",
    "plt.show()"
   ]
  },
  {
   "cell_type": "code",
   "execution_count": 27,
   "id": "e517c8df",
   "metadata": {},
   "outputs": [],
   "source": [
    "# removing all the records whose length is 0 or greater then 20\n",
    "df = df[df['length_eng_sentence'] <= 20]\n",
    "df = df[df['length_eng_sentence'] > 0]"
   ]
  },
  {
   "cell_type": "code",
   "execution_count": 28,
   "id": "bfaaab23",
   "metadata": {},
   "outputs": [
    {
     "data": {
      "text/plain": [
       "(38798, 4)"
      ]
     },
     "execution_count": 28,
     "metadata": {},
     "output_type": "execute_result"
    }
   ],
   "source": [
    "df.shape"
   ]
  },
  {
   "cell_type": "code",
   "execution_count": 29,
   "id": "9e87725e",
   "metadata": {},
   "outputs": [
    {
     "data": {
      "image/png": "[encoded data removed]",
      "text/plain": [
       "<Figure size 864x504 with 1 Axes>"
      ]
     },
     "metadata": {},
     "output_type": "display_data"
    }
   ],
   "source": [
    "# plot for the number of words in the hindi sentence\n",
    "plt.figure(figsize=(12, 7))\n",
    "df['length_hin_sentence'].plot()\n",
    "plt.title('Number of words in hindi sentences')\n",
    "plt.xlabel('Record')\n",
    "plt.ylabel('Word count')\n",
    "plt.legend()\n",
    "plt.show()"
   ]
  },
  {
   "cell_type": "code",
   "execution_count": 30,
   "id": "de73701e",
   "metadata": {},
   "outputs": [],
   "source": [
    "# removing all the records whose length is 0 or greater then 20\n",
    "df = df[df['length_hin_sentence'] <= 20]\n",
    "df = df[df['length_hin_sentence'] > 0]"
   ]
  },
  {
   "cell_type": "code",
   "execution_count": 31,
   "id": "4d0b0bcb",
   "metadata": {},
   "outputs": [
    {
     "data": {
      "text/plain": [
       "(38473, 4)"
      ]
     },
     "execution_count": 31,
     "metadata": {},
     "output_type": "execute_result"
    }
   ],
   "source": [
    "df.shape"
   ]
  },
  {
   "cell_type": "code",
   "execution_count": 32,
   "id": "2b204e5b",
   "metadata": {},
   "outputs": [
    {
     "name": "stdout",
     "output_type": "stream",
     "text": [
      "Maximum length of english sentence: 20\n",
      "Maximum length of hindi sentence: 20\n"
     ]
    }
   ],
   "source": [
    "max_length_src = df['length_eng_sentence'].max()\n",
    "max_length_tar = df['length_hin_sentence'].max()\n",
    "\n",
    "print(\"Maximum length of english sentence:\", max_length_src)\n",
    "print(\"Maximum length of hindi sentence:\", max_length_tar)"
   ]
  },
  {
   "cell_type": "code",
   "execution_count": 33,
   "id": "8043715a",
   "metadata": {},
   "outputs": [
    {
     "data": {
      "text/plain": [
       "(16293, 21587)"
      ]
     },
     "execution_count": 33,
     "metadata": {},
     "output_type": "execute_result"
    }
   ],
   "source": [
    "input_words = sorted(list(all_eng_words))\n",
    "target_words = sorted(list(all_hindi_words))\n",
    "\n",
    "num_encoder_tokens = len(all_eng_words)\n",
    "num_decoder_tokens = len(all_hindi_words)\n",
    "\n",
    "num_encoder_tokens, num_decoder_tokens"
   ]
  },
  {
   "cell_type": "code",
   "execution_count": 34,
   "id": "addcd398",
   "metadata": {},
   "outputs": [],
   "source": [
    "# adding zero padding in decoder\n",
    "num_decoder_tokens += 1"
   ]
  },
  {
   "cell_type": "code",
   "execution_count": 35,
   "id": "dd807256",
   "metadata": {},
   "outputs": [],
   "source": [
    "# creating dictionary of index for input and target words\n",
    "input_token_index = dict((word, i+1) for i, word in enumerate(input_words))\n",
    "target_token_index = dict((word, i+1) for i, word in enumerate(target_words))"
   ]
  },
  {
   "cell_type": "code",
   "execution_count": 36,
   "id": "71f5b76d",
   "metadata": {},
   "outputs": [],
   "source": [
    "# creating dictionary of index for input and target words in reverse format\n",
    "reverse_input_token_index = dict((i, word) for word, i in input_token_index.items())\n",
    "reverse_target_token_index = dict((i, word) for word, i in target_token_index.items())"
   ]
  },
  {
   "cell_type": "markdown",
   "id": "72ecd007-94f5-424b-b2bb-4382055f891d",
   "metadata": {},
   "source": [
    "# Pickle the required information"
   ]
  },
  {
   "cell_type": "code",
   "execution_count": 37,
   "id": "3b1cdbf7-bf18-40c4-bcfa-e80bdc9a2310",
   "metadata": {},
   "outputs": [],
   "source": [
    "pickle.dump(max_length_src, open(\"pickle_data/max_length_src.pkl\", \"wb\"))\n",
    "pickle.dump(max_length_tar, open(\"pickle_data/max_length_tar.pkl\", \"wb\"))\n",
    "pickle.dump(num_decoder_tokens, open(\"pickle_data/num_decoder_tokens.pkl\", \"wb\"))\n",
    "pickle.dump(input_token_index, open(\"pickle_data/input_token_index.pkl\", \"wb\"))\n",
    "pickle.dump(target_token_index, open(\"pickle_data/target_token_index.pkl\", \"wb\"))\n",
    "pickle.dump(reverse_target_token_index, open(\"pickle_data/reverse_target_token_index.pkl\", \"wb\"))"
   ]
  },
  {
   "cell_type": "code",
   "execution_count": 38,
   "id": "69b4f175",
   "metadata": {},
   "outputs": [
    {
     "data": {
      "text/html": [
       "<div>\n",
       "<style scoped>\n",
       "    .dataframe tbody tr th:only-of-type {\n",
       "        vertical-align: middle;\n",
       "    }\n",
       "\n",
       "    .dataframe tbody tr th {\n",
       "        vertical-align: top;\n",
       "    }\n",
       "\n",
       "    .dataframe thead th {\n",
       "        text-align: right;\n",
       "    }\n",
       "</style>\n",
       "<table border=\"1\" class=\"dataframe\">\n",
       "  <thead>\n",
       "    <tr style=\"text-align: right;\">\n",
       "      <th></th>\n",
       "      <th>english_sentence</th>\n",
       "      <th>hindi_sentence</th>\n",
       "      <th>length_eng_sentence</th>\n",
       "      <th>length_hin_sentence</th>\n",
       "    </tr>\n",
       "  </thead>\n",
       "  <tbody>\n",
       "    <tr>\n",
       "      <th>21372</th>\n",
       "      <td>of that abnormality in the brain</td>\n",
       "      <td>START_ जड़ का पता लगता है _END</td>\n",
       "      <td>6</td>\n",
       "      <td>7</td>\n",
       "    </tr>\n",
       "    <tr>\n",
       "      <th>39733</th>\n",
       "      <td>and whats under that</td>\n",
       "      <td>START_ और उसके नीचे जो है _END</td>\n",
       "      <td>4</td>\n",
       "      <td>7</td>\n",
       "    </tr>\n",
       "    <tr>\n",
       "      <th>3571</th>\n",
       "      <td>this is what its like to go to a news stand al...</td>\n",
       "      <td>START_ किसी पत्रिकाओं के दुकान में जाने का अनु...</td>\n",
       "      <td>13</td>\n",
       "      <td>14</td>\n",
       "    </tr>\n",
       "    <tr>\n",
       "      <th>26566</th>\n",
       "      <td>that i can answer with an uncontroversial answer</td>\n",
       "      <td>START_ जिसका ज़वाब मैं गैरविवादास्पद रूप में द...</td>\n",
       "      <td>8</td>\n",
       "      <td>11</td>\n",
       "    </tr>\n",
       "    <tr>\n",
       "      <th>24417</th>\n",
       "      <td>so you have a sense of what the americans are ...</td>\n",
       "      <td>START_ तो आपको ये पता है के अमरीकी लोग केसा सो...</td>\n",
       "      <td>11</td>\n",
       "      <td>16</td>\n",
       "    </tr>\n",
       "  </tbody>\n",
       "</table>\n",
       "</div>"
      ],
      "text/plain": [
       "                                        english_sentence  \\\n",
       "21372                   of that abnormality in the brain   \n",
       "39733                               and whats under that   \n",
       "3571   this is what its like to go to a news stand al...   \n",
       "26566   that i can answer with an uncontroversial answer   \n",
       "24417  so you have a sense of what the americans are ...   \n",
       "\n",
       "                                          hindi_sentence  length_eng_sentence  \\\n",
       "21372                     START_ जड़ का पता लगता है _END                    6   \n",
       "39733                     START_ और उसके नीचे जो है _END                    4   \n",
       "3571   START_ किसी पत्रिकाओं के दुकान में जाने का अनु...                   13   \n",
       "26566  START_ जिसका ज़वाब मैं गैरविवादास्पद रूप में द...                    8   \n",
       "24417  START_ तो आपको ये पता है के अमरीकी लोग केसा सो...                   11   \n",
       "\n",
       "       length_hin_sentence  \n",
       "21372                    7  \n",
       "39733                    7  \n",
       "3571                    14  \n",
       "26566                   11  \n",
       "24417                   16  "
      ]
     },
     "execution_count": 38,
     "metadata": {},
     "output_type": "execute_result"
    }
   ],
   "source": [
    "df = shuffle(df)\n",
    "df.head()"
   ]
  },
  {
   "cell_type": "markdown",
   "id": "593b112e",
   "metadata": {},
   "source": [
    "# Split the data"
   ]
  },
  {
   "cell_type": "code",
   "execution_count": 39,
   "id": "0b206f5b",
   "metadata": {},
   "outputs": [
    {
     "data": {
      "text/plain": [
       "((30778,), (7695,))"
      ]
     },
     "execution_count": 39,
     "metadata": {},
     "output_type": "execute_result"
    }
   ],
   "source": [
    "X, y = df['english_sentence'], df['hindi_sentence']\n",
    "X_train, X_test, y_train, y_test = train_test_split(X, y, test_size=0.2, random_state=42)\n",
    "X_train.shape, X_test.shape"
   ]
  },
  {
   "cell_type": "markdown",
   "id": "6b9c9cd8",
   "metadata": {},
   "source": [
    "# Save the data"
   ]
  },
  {
   "cell_type": "code",
   "execution_count": 40,
   "id": "836fdcd5",
   "metadata": {},
   "outputs": [],
   "source": [
    "X_train.to_pickle('pickle_data/X_train.pkl')\n",
    "y_train.to_pickle('pickle_data/y_train.pkl')\n",
    "\n",
    "X_test.to_pickle('pickle_data/X_test.pkl')\n",
    "y_test.to_pickle('pickle_data/y_test.pkl')"
   ]
  },
  {
   "cell_type": "markdown",
   "id": "86d5ef43",
   "metadata": {},
   "source": [
    "# Load the data"
   ]
  },
  {
   "cell_type": "code",
   "execution_count": 41,
   "id": "f9f47dcb",
   "metadata": {},
   "outputs": [],
   "source": [
    "X_train = pickle.load(open('pickle_data/X_train.pkl', 'rb'))\n",
    "y_train = pickle.load(open('pickle_data/y_train.pkl', 'rb'))\n",
    "\n",
    "X_test = pickle.load(open('pickle_data/X_test.pkl', 'rb'))\n",
    "y_test = pickle.load(open('pickle_data/y_test.pkl', 'rb'))"
   ]
  },
  {
   "cell_type": "code",
   "execution_count": 42,
   "id": "23f3d45d",
   "metadata": {},
   "outputs": [],
   "source": [
    "def generate_batch(X = X_train, y = y_train, batch_size = 128):\n",
    "    ''' Generate a batch of data '''\n",
    "    while True:\n",
    "        for j in range(0, len(X), batch_size):\n",
    "            encoder_input_data = np.zeros((batch_size, max_length_src),dtype='float32')\n",
    "            decoder_input_data = np.zeros((batch_size, max_length_tar),dtype='float32')\n",
    "            decoder_target_data = np.zeros((batch_size, max_length_tar, num_decoder_tokens),dtype='float32')\n",
    "            for i, (input_text, target_text) in enumerate(zip(X[j:j+batch_size], y[j:j+batch_size])):\n",
    "                for t, word in enumerate(input_text.split()):\n",
    "                    encoder_input_data[i, t] = input_token_index[word] # encoder input seq\n",
    "                for t, word in enumerate(target_text.split()):\n",
    "                    if t<len(target_text.split())-1:\n",
    "                        decoder_input_data[i, t] = target_token_index[word] # decoder input seq\n",
    "                    if t>0:\n",
    "                        # decoder target sequence (one hot encoded)\n",
    "                        # does not include the START_ token\n",
    "                        # Offset by one timestep\n",
    "                        decoder_target_data[i, t - 1, target_token_index[word]] = 1.\n",
    "            yield([encoder_input_data, decoder_input_data], decoder_target_data)"
   ]
  },
  {
   "cell_type": "markdown",
   "id": "9c8a6cad",
   "metadata": {},
   "source": [
    "# Encoder decoder architecture"
   ]
  },
  {
   "cell_type": "code",
   "execution_count": 43,
   "id": "3784da8e",
   "metadata": {},
   "outputs": [],
   "source": [
    "latent_dim = 300"
   ]
  },
  {
   "cell_type": "code",
   "execution_count": 44,
   "id": "cfa0f663",
   "metadata": {},
   "outputs": [],
   "source": [
    "# encoder\n",
    "encoder_inputs = tf.keras.layers.Input(shape=(None,))\n",
    "enc_emb = tf.keras.layers.Embedding(num_encoder_tokens, latent_dim, mask_zero=True)(encoder_inputs)\n",
    "encoder_lstm = tf.keras.layers.LSTM(latent_dim, return_state=True)\n",
    "encoder_outputs, state_h, state_c = encoder_lstm(enc_emb)\n",
    "\n",
    "# discard the 'encoder_outputs' and only keep the states\n",
    "encoder_states = [state_h, state_c]"
   ]
  },
  {
   "cell_type": "code",
   "execution_count": 45,
   "id": "aa8e731b",
   "metadata": {},
   "outputs": [],
   "source": [
    "# decoder, using 'encoder_states' as initial states\n",
    "decoder_inputs = tf.keras.layers.Input(shape=(None,))\n",
    "dec_emb_layer = tf.keras.layers.Embedding(num_decoder_tokens, latent_dim, mask_zero=True)\n",
    "dec_emb = dec_emb_layer(decoder_inputs)\n",
    "\n",
    "# setup decoder to return full ouput sequences,\n",
    "# and to return internal states as well. We don't use the\n",
    "# return states in the training mode, but we will use them in inference\n",
    "decoder_lstm = tf.keras.layers.LSTM(latent_dim, return_sequences=True, return_state=True)\n",
    "decoder_outputs, _, _ = decoder_lstm(dec_emb, initial_state=encoder_states)\n",
    "decoder_dense = tf.keras.layers.Dense(num_decoder_tokens, activation='softmax')\n",
    "decoder_outputs = decoder_dense(decoder_outputs)"
   ]
  },
  {
   "cell_type": "code",
   "execution_count": 46,
   "id": "b742d09a",
   "metadata": {},
   "outputs": [],
   "source": [
    "# model that will turn\n",
    "# 'encoder_input' data & 'decoder_input' data into 'decocer_target' data\n",
    "model = tf.keras.Model([encoder_inputs, decoder_inputs], decoder_outputs)"
   ]
  },
  {
   "cell_type": "code",
   "execution_count": 47,
   "id": "25c4a352",
   "metadata": {},
   "outputs": [],
   "source": [
    "model.compile(optimizer='rmsprop', loss='categorical_crossentropy')"
   ]
  },
  {
   "cell_type": "code",
   "execution_count": 48,
   "id": "b9624e63",
   "metadata": {},
   "outputs": [
    {
     "name": "stdout",
     "output_type": "stream",
     "text": [
      "Model: \"model\"\n",
      "__________________________________________________________________________________________________\n",
      "Layer (type)                    Output Shape         Param #     Connected to                     \n",
      "==================================================================================================\n",
      "input_1 (InputLayer)            [(None, None)]       0                                            \n",
      "__________________________________________________________________________________________________\n",
      "input_2 (InputLayer)            [(None, None)]       0                                            \n",
      "__________________________________________________________________________________________________\n",
      "embedding (Embedding)           (None, None, 300)    4887900     input_1[0][0]                    \n",
      "__________________________________________________________________________________________________\n",
      "embedding_1 (Embedding)         (None, None, 300)    6476400     input_2[0][0]                    \n",
      "__________________________________________________________________________________________________\n",
      "lstm (LSTM)                     [(None, 300), (None, 721200      embedding[0][0]                  \n",
      "__________________________________________________________________________________________________\n",
      "lstm_1 (LSTM)                   [(None, None, 300),  721200      embedding_1[0][0]                \n",
      "                                                                 lstm[0][1]                       \n",
      "                                                                 lstm[0][2]                       \n",
      "__________________________________________________________________________________________________\n",
      "dense (Dense)                   (None, None, 21588)  6497988     lstm_1[0][0]                     \n",
      "==================================================================================================\n",
      "Total params: 19,304,688\n",
      "Trainable params: 19,304,688\n",
      "Non-trainable params: 0\n",
      "__________________________________________________________________________________________________\n"
     ]
    }
   ],
   "source": [
    "model.summary()"
   ]
  },
  {
   "cell_type": "code",
   "execution_count": 49,
   "id": "b7127d02",
   "metadata": {},
   "outputs": [],
   "source": [
    "train_samples = len(X_train)\n",
    "val_samples = len(X_test)\n",
    "batch_size = 128\n",
    "epochs = 100"
   ]
  },
  {
   "cell_type": "code",
   "execution_count": 50,
   "id": "2c70cfd8",
   "metadata": {},
   "outputs": [
    {
     "data": {
      "text/plain": [
       "(240, 60)"
      ]
     },
     "execution_count": 50,
     "metadata": {},
     "output_type": "execute_result"
    }
   ],
   "source": [
    "train_samples//batch_size, val_samples//batch_size"
   ]
  },
  {
   "cell_type": "code",
   "execution_count": 51,
   "id": "8fdea0b4",
   "metadata": {},
   "outputs": [
    {
     "name": "stderr",
     "output_type": "stream",
     "text": [
      "C:\\Users\\Yash_Jain1\\.conda\\envs\\tf-gpu\\lib\\site-packages\\keras\\engine\\training.py:1972: UserWarning: `Model.fit_generator` is deprecated and will be removed in a future version. Please use `Model.fit`, which supports generators.\n",
      "  warnings.warn('`Model.fit_generator` is deprecated and '\n"
     ]
    },
    {
     "name": "stdout",
     "output_type": "stream",
     "text": [
      "Epoch 1/100\n",
      "240/240 [==============================] - 108s 393ms/step - loss: 2.9320 - val_loss: 2.7592\n",
      "Epoch 2/100\n",
      "240/240 [==============================] - 97s 403ms/step - loss: 2.6131 - val_loss: 2.5848\n",
      "Epoch 3/100\n",
      "240/240 [==============================] - 105s 437ms/step - loss: 2.4505 - val_loss: 2.5036\n",
      "Epoch 4/100\n",
      "240/240 [==============================] - 104s 432ms/step - loss: 2.3345 - val_loss: 2.4387\n",
      "Epoch 5/100\n",
      "240/240 [==============================] - 117s 488ms/step - loss: 2.2330 - val_loss: 2.4022\n",
      "Epoch 6/100\n",
      "240/240 [==============================] - 159s 662ms/step - loss: 2.1448 - val_loss: 2.3622\n",
      "Epoch 7/100\n",
      "240/240 [==============================] - 142s 593ms/step - loss: 2.0631 - val_loss: 2.3476\n",
      "Epoch 8/100\n",
      "240/240 [==============================] - 122s 507ms/step - loss: 1.9882 - val_loss: 2.3283\n",
      "Epoch 9/100\n",
      "240/240 [==============================] - 114s 474ms/step - loss: 1.9174 - val_loss: 2.3218\n",
      "Epoch 10/100\n",
      "240/240 [==============================] - 113s 470ms/step - loss: 1.8508 - val_loss: 2.3175\n",
      "Epoch 11/100\n",
      "240/240 [==============================] - 123s 515ms/step - loss: 1.7862 - val_loss: 2.3176\n",
      "Epoch 12/100\n",
      "240/240 [==============================] - 125s 520ms/step - loss: 1.7236 - val_loss: 2.3286\n",
      "Epoch 13/100\n",
      "240/240 [==============================] - 141s 586ms/step - loss: 1.6632 - val_loss: 2.3418\n",
      "Epoch 14/100\n",
      "240/240 [==============================] - 101s 422ms/step - loss: 1.6052 - val_loss: 2.3536\n",
      "Epoch 15/100\n",
      "240/240 [==============================] - 148s 618ms/step - loss: 1.5477 - val_loss: 2.3648\n",
      "Epoch 16/100\n",
      "240/240 [==============================] - 170s 708ms/step - loss: 1.4928 - val_loss: 2.3797\n",
      "Epoch 17/100\n",
      "240/240 [==============================] - 162s 674ms/step - loss: 1.4391 - val_loss: 2.4003\n",
      "Epoch 18/100\n",
      "240/240 [==============================] - 117s 486ms/step - loss: 1.3869 - val_loss: 2.4191\n",
      "Epoch 19/100\n",
      "240/240 [==============================] - 130s 542ms/step - loss: 1.3375 - val_loss: 2.4390\n",
      "Epoch 20/100\n",
      "240/240 [==============================] - 115s 480ms/step - loss: 1.2887 - val_loss: 2.4569\n",
      "Epoch 21/100\n",
      "240/240 [==============================] - 132s 551ms/step - loss: 1.2426 - val_loss: 2.4811\n",
      "Epoch 22/100\n",
      "240/240 [==============================] - 108s 448ms/step - loss: 1.1980 - val_loss: 2.5045\n",
      "Epoch 23/100\n",
      "240/240 [==============================] - 117s 489ms/step - loss: 1.1551 - val_loss: 2.5368\n",
      "Epoch 24/100\n",
      "240/240 [==============================] - 113s 471ms/step - loss: 1.1133 - val_loss: 2.5522\n",
      "Epoch 25/100\n",
      "240/240 [==============================] - 111s 462ms/step - loss: 1.0724 - val_loss: 2.5797\n",
      "Epoch 26/100\n",
      "240/240 [==============================] - 115s 479ms/step - loss: 1.0346 - val_loss: 2.5959\n",
      "Epoch 27/100\n",
      "240/240 [==============================] - 111s 465ms/step - loss: 0.9960 - val_loss: 2.6156\n",
      "Epoch 28/100\n",
      "240/240 [==============================] - 110s 457ms/step - loss: 0.9607 - val_loss: 2.6407\n",
      "Epoch 29/100\n",
      "240/240 [==============================] - 110s 458ms/step - loss: 0.9267 - val_loss: 2.6686\n",
      "Epoch 30/100\n",
      "240/240 [==============================] - 117s 488ms/step - loss: 0.8928 - val_loss: 2.6917\n",
      "Epoch 31/100\n",
      "240/240 [==============================] - 108s 451ms/step - loss: 0.8613 - val_loss: 2.7146\n",
      "Epoch 32/100\n",
      "240/240 [==============================] - 109s 454ms/step - loss: 0.8307 - val_loss: 2.7337\n",
      "Epoch 33/100\n",
      "240/240 [==============================] - 168s 699ms/step - loss: 0.8024 - val_loss: 2.7615\n",
      "Epoch 34/100\n",
      "240/240 [==============================] - 193s 805ms/step - loss: 0.7760 - val_loss: 2.7874\n",
      "Epoch 35/100\n",
      "240/240 [==============================] - 206s 859ms/step - loss: 0.7501 - val_loss: 2.8082\n",
      "Epoch 36/100\n",
      "240/240 [==============================] - 224s 935ms/step - loss: 0.7261 - val_loss: 2.8272\n",
      "Epoch 37/100\n",
      "240/240 [==============================] - 195s 813ms/step - loss: 0.7025 - val_loss: 2.8466\n",
      "Epoch 38/100\n",
      "240/240 [==============================] - 227s 947ms/step - loss: 0.6803 - val_loss: 2.8635\n",
      "Epoch 39/100\n",
      "240/240 [==============================] - 190s 794ms/step - loss: 0.6587 - val_loss: 2.8869\n",
      "Epoch 40/100\n",
      "240/240 [==============================] - 203s 849ms/step - loss: 0.6381 - val_loss: 2.9055\n",
      "Epoch 41/100\n",
      "240/240 [==============================] - 184s 766ms/step - loss: 0.6182 - val_loss: 2.9221\n",
      "Epoch 42/100\n",
      "240/240 [==============================] - 187s 781ms/step - loss: 0.5997 - val_loss: 2.9401\n",
      "Epoch 43/100\n",
      "240/240 [==============================] - 189s 787ms/step - loss: 0.5813 - val_loss: 2.9569\n",
      "Epoch 44/100\n",
      "240/240 [==============================] - 133s 555ms/step - loss: 0.5643 - val_loss: 2.9704\n",
      "Epoch 45/100\n",
      "240/240 [==============================] - 110s 460ms/step - loss: 0.5472 - val_loss: 2.9888\n",
      "Epoch 46/100\n",
      "240/240 [==============================] - 106s 442ms/step - loss: 0.5313 - val_loss: 3.0068\n",
      "Epoch 47/100\n",
      "240/240 [==============================] - 107s 447ms/step - loss: 0.5153 - val_loss: 3.0182\n",
      "Epoch 48/100\n",
      "240/240 [==============================] - 101s 423ms/step - loss: 0.5000 - val_loss: 3.0339\n",
      "Epoch 49/100\n",
      "240/240 [==============================] - 106s 441ms/step - loss: 0.4870 - val_loss: 3.0479\n",
      "Epoch 50/100\n",
      "240/240 [==============================] - 108s 450ms/step - loss: 0.4739 - val_loss: 3.0550\n",
      "Epoch 51/100\n",
      "240/240 [==============================] - 103s 431ms/step - loss: 0.4609 - val_loss: 3.0840\n",
      "Epoch 52/100\n",
      "240/240 [==============================] - 112s 466ms/step - loss: 0.4487 - val_loss: 3.0956\n",
      "Epoch 53/100\n",
      "240/240 [==============================] - 101s 423ms/step - loss: 0.4375 - val_loss: 3.1149\n",
      "Epoch 54/100\n",
      "240/240 [==============================] - 109s 456ms/step - loss: 0.4257 - val_loss: 3.1317\n",
      "Epoch 55/100\n",
      "240/240 [==============================] - 96s 399ms/step - loss: 0.4150 - val_loss: 3.1405\n",
      "Epoch 56/100\n",
      "240/240 [==============================] - 115s 478ms/step - loss: 0.4060 - val_loss: 3.1503\n",
      "Epoch 57/100\n",
      "240/240 [==============================] - 106s 444ms/step - loss: 0.3964 - val_loss: 3.1631\n",
      "Epoch 58/100\n",
      "240/240 [==============================] - 101s 420ms/step - loss: 0.3887 - val_loss: 3.1765\n",
      "Epoch 59/100\n",
      "240/240 [==============================] - 100s 416ms/step - loss: 0.3806 - val_loss: 3.1877\n",
      "Epoch 60/100\n",
      "240/240 [==============================] - 112s 465ms/step - loss: 0.3731 - val_loss: 3.1959\n",
      "Epoch 61/100\n",
      "240/240 [==============================] - 119s 497ms/step - loss: 0.3658 - val_loss: 3.2056\n",
      "Epoch 62/100\n",
      "240/240 [==============================] - 112s 468ms/step - loss: 0.3587 - val_loss: 3.2180\n",
      "Epoch 63/100\n",
      "240/240 [==============================] - 106s 442ms/step - loss: 0.3520 - val_loss: 3.2268\n",
      "Epoch 64/100\n",
      "240/240 [==============================] - 114s 474ms/step - loss: 0.3442 - val_loss: 3.2341\n",
      "Epoch 65/100\n",
      "240/240 [==============================] - 109s 453ms/step - loss: 0.3380 - val_loss: 3.2379\n",
      "Epoch 66/100\n",
      "240/240 [==============================] - 107s 448ms/step - loss: 0.3309 - val_loss: 3.2465\n",
      "Epoch 67/100\n",
      "240/240 [==============================] - 112s 465ms/step - loss: 0.3256 - val_loss: 3.2474\n",
      "Epoch 68/100\n",
      "240/240 [==============================] - 111s 465ms/step - loss: 0.3199 - val_loss: 3.2524\n",
      "Epoch 69/100\n",
      "240/240 [==============================] - 105s 440ms/step - loss: 0.3140 - val_loss: 3.2638\n",
      "Epoch 70/100\n",
      "240/240 [==============================] - 107s 446ms/step - loss: 0.3078 - val_loss: 3.2692\n",
      "Epoch 71/100\n",
      "240/240 [==============================] - 117s 489ms/step - loss: 0.3025 - val_loss: 3.2665\n",
      "Epoch 72/100\n",
      "240/240 [==============================] - 117s 489ms/step - loss: 0.2977 - val_loss: 3.2754\n",
      "Epoch 73/100\n",
      "240/240 [==============================] - 106s 440ms/step - loss: 0.2933 - val_loss: 3.2797\n",
      "Epoch 74/100\n",
      "240/240 [==============================] - 116s 485ms/step - loss: 0.2890 - val_loss: 3.2850\n",
      "Epoch 75/100\n",
      "240/240 [==============================] - 108s 448ms/step - loss: 0.2848 - val_loss: 3.2889\n",
      "Epoch 76/100\n",
      "240/240 [==============================] - 102s 427ms/step - loss: 0.2800 - val_loss: 3.2967\n",
      "Epoch 77/100\n",
      "240/240 [==============================] - 106s 444ms/step - loss: 0.2755 - val_loss: 3.2995\n",
      "Epoch 78/100\n",
      "240/240 [==============================] - 111s 462ms/step - loss: 0.2722 - val_loss: 3.3062\n",
      "Epoch 79/100\n",
      "240/240 [==============================] - 99s 413ms/step - loss: 0.2679 - val_loss: 3.3140\n",
      "Epoch 80/100\n",
      "240/240 [==============================] - 102s 424ms/step - loss: 0.2655 - val_loss: 3.3168\n",
      "Epoch 81/100\n",
      "240/240 [==============================] - 107s 448ms/step - loss: 0.2613 - val_loss: 3.3196\n",
      "Epoch 82/100\n",
      "240/240 [==============================] - 110s 460ms/step - loss: 0.2582 - val_loss: 3.3229\n",
      "Epoch 83/100\n",
      "240/240 [==============================] - 111s 462ms/step - loss: 0.2550 - val_loss: 3.3258\n",
      "Epoch 84/100\n",
      "240/240 [==============================] - 108s 450ms/step - loss: 0.2524 - val_loss: 3.3350\n",
      "Epoch 85/100\n",
      "240/240 [==============================] - 109s 453ms/step - loss: 0.2494 - val_loss: 3.3333\n",
      "Epoch 86/100\n",
      "240/240 [==============================] - 108s 451ms/step - loss: 0.2470 - val_loss: 3.3414\n",
      "Epoch 87/100\n",
      "240/240 [==============================] - 109s 454ms/step - loss: 0.2447 - val_loss: 3.3456\n",
      "Epoch 88/100\n",
      "240/240 [==============================] - 106s 442ms/step - loss: 0.2424 - val_loss: 3.3459\n",
      "Epoch 89/100\n",
      "240/240 [==============================] - 111s 465ms/step - loss: 0.2394 - val_loss: 3.3536\n",
      "Epoch 90/100\n",
      "240/240 [==============================] - 104s 434ms/step - loss: 0.2365 - val_loss: 3.3562\n",
      "Epoch 91/100\n",
      "240/240 [==============================] - 103s 430ms/step - loss: 0.2357 - val_loss: 3.3569\n",
      "Epoch 92/100\n",
      "240/240 [==============================] - 102s 427ms/step - loss: 0.2332 - val_loss: 3.3669\n",
      "Epoch 93/100\n",
      "240/240 [==============================] - 123s 511ms/step - loss: 0.2314 - val_loss: 3.3647\n",
      "Epoch 94/100\n",
      "240/240 [==============================] - 113s 472ms/step - loss: 0.2292 - val_loss: 3.3662\n",
      "Epoch 95/100\n",
      "240/240 [==============================] - 111s 463ms/step - loss: 0.2276 - val_loss: 3.3697\n",
      "Epoch 96/100\n",
      "240/240 [==============================] - 122s 509ms/step - loss: 0.2261 - val_loss: 3.3767\n",
      "Epoch 97/100\n",
      "240/240 [==============================] - 105s 437ms/step - loss: 0.2239 - val_loss: 3.3784\n",
      "Epoch 98/100\n",
      "240/240 [==============================] - 110s 459ms/step - loss: 0.2212 - val_loss: 3.3814\n",
      "Epoch 99/100\n",
      "240/240 [==============================] - 100s 417ms/step - loss: 0.2200 - val_loss: 3.3808\n",
      "Epoch 100/100\n",
      "240/240 [==============================] - 135s 563ms/step - loss: 0.2184 - val_loss: 3.3861\n"
     ]
    },
    {
     "data": {
      "text/plain": [
       "<keras.callbacks.History at 0x1bf39992a20>"
      ]
     },
     "execution_count": 51,
     "metadata": {},
     "output_type": "execute_result"
    }
   ],
   "source": [
    "model.fit_generator(generator=generate_batch(X_train, y_train, batch_size=batch_size),\n",
    "                    steps_per_epoch=train_samples//batch_size,\n",
    "                    epochs=epochs,\n",
    "                    validation_data=generate_batch(X_test, y_test, batch_size=batch_size),\n",
    "                    validation_steps=val_samples//batch_size)"
   ]
  },
  {
   "cell_type": "code",
   "execution_count": 52,
   "id": "2e2aa38e",
   "metadata": {},
   "outputs": [],
   "source": [
    "model.save_weights('weights/weights_machine_translation.h5')"
   ]
  },
  {
   "cell_type": "code",
   "execution_count": 53,
   "id": "76417914",
   "metadata": {},
   "outputs": [],
   "source": [
    "# encode the input sequence to get the \"thought vectors\"\n",
    "encoder_model = tf.keras.Model(encoder_inputs, encoder_states)\n",
    "\n",
    "# decoder setup\n",
    "# tensors will hold the states of the precious time step\n",
    "decoder_state_input_h = tf.keras.layers.Input(shape=(latent_dim,))\n",
    "decoder_state_input_c = tf.keras.layers.Input(shape=(latent_dim,))\n",
    "decoder_states_inputs = [decoder_state_input_h, decoder_state_input_c]\n",
    "\n",
    "# get the embedding of the decoder sequence\n",
    "dec_emb2 = dec_emb_layer(decoder_inputs)\n",
    "\n",
    "# to predict the next word in the sequence, set the initial states to the states from the previous time step\n",
    "decoder_outputs2, state_h2, state_c2 = decoder_lstm(dec_emb2, initial_state=decoder_states_inputs)\n",
    "decoder_states2 = [state_h2, state_c2]\n",
    "\n",
    "# dense softmax layer to generate prob dist over the target vocabulary\n",
    "decoder_outputs2 = decoder_dense(decoder_outputs2)\n",
    "\n",
    "# final decoder model\n",
    "decoder_model = tf.keras.Model([decoder_inputs] + decoder_states_inputs,\n",
    "                               [decoder_outputs2] + decoder_states2)"
   ]
  },
  {
   "cell_type": "code",
   "execution_count": 54,
   "id": "c2e2ab10",
   "metadata": {},
   "outputs": [
    {
     "name": "stdout",
     "output_type": "stream",
     "text": [
      "Model: \"model_1\"\n",
      "_________________________________________________________________\n",
      "Layer (type)                 Output Shape              Param #   \n",
      "=================================================================\n",
      "input_1 (InputLayer)         [(None, None)]            0         \n",
      "_________________________________________________________________\n",
      "embedding (Embedding)        (None, None, 300)         4887900   \n",
      "_________________________________________________________________\n",
      "lstm (LSTM)                  [(None, 300), (None, 300) 721200    \n",
      "=================================================================\n",
      "Total params: 5,609,100\n",
      "Trainable params: 5,609,100\n",
      "Non-trainable params: 0\n",
      "_________________________________________________________________\n"
     ]
    }
   ],
   "source": [
    "encoder_model.summary()"
   ]
  },
  {
   "cell_type": "code",
   "execution_count": 55,
   "id": "c2b9db59",
   "metadata": {},
   "outputs": [
    {
     "name": "stdout",
     "output_type": "stream",
     "text": [
      "Model: \"model_2\"\n",
      "__________________________________________________________________________________________________\n",
      "Layer (type)                    Output Shape         Param #     Connected to                     \n",
      "==================================================================================================\n",
      "input_2 (InputLayer)            [(None, None)]       0                                            \n",
      "__________________________________________________________________________________________________\n",
      "embedding_1 (Embedding)         (None, None, 300)    6476400     input_2[0][0]                    \n",
      "__________________________________________________________________________________________________\n",
      "input_3 (InputLayer)            [(None, 300)]        0                                            \n",
      "__________________________________________________________________________________________________\n",
      "input_4 (InputLayer)            [(None, 300)]        0                                            \n",
      "__________________________________________________________________________________________________\n",
      "lstm_1 (LSTM)                   [(None, None, 300),  721200      embedding_1[1][0]                \n",
      "                                                                 input_3[0][0]                    \n",
      "                                                                 input_4[0][0]                    \n",
      "__________________________________________________________________________________________________\n",
      "dense (Dense)                   (None, None, 21588)  6497988     lstm_1[1][0]                     \n",
      "==================================================================================================\n",
      "Total params: 13,695,588\n",
      "Trainable params: 13,695,588\n",
      "Non-trainable params: 0\n",
      "__________________________________________________________________________________________________\n"
     ]
    }
   ],
   "source": [
    "decoder_model.summary()"
   ]
  },
  {
   "cell_type": "markdown",
   "id": "c089a6d3-2f60-44b4-9264-ff49929342ac",
   "metadata": {},
   "source": [
    "# Save the model"
   ]
  },
  {
   "cell_type": "code",
   "execution_count": 56,
   "id": "d07de7e3-605c-43d3-acac-b114fafbeda5",
   "metadata": {},
   "outputs": [
    {
     "name": "stdout",
     "output_type": "stream",
     "text": [
      "WARNING:tensorflow:Compiled the loaded model, but the compiled metrics have yet to be built. `model.compile_metrics` will be empty until you train or evaluate the model.\n"
     ]
    },
    {
     "name": "stderr",
     "output_type": "stream",
     "text": [
      "WARNING:absl:Found untraced functions such as lstm_cell_layer_call_fn, lstm_cell_layer_call_and_return_conditional_losses, lstm_cell_layer_call_fn, lstm_cell_layer_call_and_return_conditional_losses, lstm_cell_layer_call_and_return_conditional_losses while saving (showing 5 of 5). These functions will not be directly callable after loading.\n"
     ]
    },
    {
     "name": "stdout",
     "output_type": "stream",
     "text": [
      "INFO:tensorflow:Assets written to: encoder_model\\assets\n"
     ]
    },
    {
     "name": "stderr",
     "output_type": "stream",
     "text": [
      "INFO:tensorflow:Assets written to: encoder_model\\assets\n"
     ]
    },
    {
     "name": "stdout",
     "output_type": "stream",
     "text": [
      "WARNING:tensorflow:Compiled the loaded model, but the compiled metrics have yet to be built. `model.compile_metrics` will be empty until you train or evaluate the model.\n"
     ]
    },
    {
     "name": "stderr",
     "output_type": "stream",
     "text": [
      "WARNING:tensorflow:Compiled the loaded model, but the compiled metrics have yet to be built. `model.compile_metrics` will be empty until you train or evaluate the model.\n",
      "WARNING:absl:Found untraced functions such as lstm_cell_1_layer_call_fn, lstm_cell_1_layer_call_and_return_conditional_losses, lstm_cell_1_layer_call_fn, lstm_cell_1_layer_call_and_return_conditional_losses, lstm_cell_1_layer_call_and_return_conditional_losses while saving (showing 5 of 5). These functions will not be directly callable after loading.\n"
     ]
    },
    {
     "name": "stdout",
     "output_type": "stream",
     "text": [
      "INFO:tensorflow:Assets written to: decoder_model\\assets\n"
     ]
    },
    {
     "name": "stderr",
     "output_type": "stream",
     "text": [
      "INFO:tensorflow:Assets written to: decoder_model\\assets\n"
     ]
    }
   ],
   "source": [
    "encoder_model.save(\"encoder_model\")\n",
    "decoder_model.save(\"decoder_model\")"
   ]
  },
  {
   "cell_type": "code",
   "execution_count": 57,
   "id": "5ff0ff04",
   "metadata": {},
   "outputs": [],
   "source": [
    "def decode_sequence(input_seq):\n",
    "    # encode the input as state vectors\n",
    "    states_value = encoder_model.predict(input_seq)\n",
    "    # generate empty target sequence of length 1\n",
    "    target_seq = np.zeros((1,1))\n",
    "    # populate the first character of target sequence with the start character\n",
    "    target_seq[0,0] = target_token_index['START_']\n",
    "    \n",
    "    # sampling loop for a batch of sequence\n",
    "    # (to simplify, here we assume a batch of size 1)\n",
    "    stop_condition = False\n",
    "    decoded_sentence = ''\n",
    "    while not stop_condition:\n",
    "        output_tokens, h, c = decoder_model.predict([target_seq] + states_value)\n",
    "        \n",
    "        # sample a token\n",
    "        sampled_token_index = np.argmax(output_tokens[0, -1, :])\n",
    "        sampled_char = reverse_target_token_index[sampled_token_index]\n",
    "        decoded_sentence += ' ' + sampled_char\n",
    "        \n",
    "        # exit condition: either hit max length or find stop character\n",
    "        if (sampled_char == '_END' or len(decoded_sentence) > 50):\n",
    "            stop_condition = True\n",
    "            \n",
    "        # update the target sequence (of length 1)\n",
    "        target_seq = np.zeros((1,1))\n",
    "        target_seq[0,0] = sampled_token_index\n",
    "        \n",
    "        # update states\n",
    "        states_value = [h, c]\n",
    "        \n",
    "    return decoded_sentence"
   ]
  },
  {
   "cell_type": "code",
   "execution_count": 58,
   "id": "17defce7",
   "metadata": {},
   "outputs": [],
   "source": [
    "train_gen = generate_batch(X_train, y_train, batch_size=1)\n",
    "k = -1"
   ]
  },
  {
   "cell_type": "code",
   "execution_count": 59,
   "id": "1061e0f6",
   "metadata": {},
   "outputs": [
    {
     "name": "stdout",
     "output_type": "stream",
     "text": [
      "Input English sentence: we print geometry where we can make industrial design objects\n",
      "Actual Hindi Translation:  जहां हम औद्योगिक डिजाइन वस्तुओं को छाप सकते हैं \n",
      "Predicted Hindi Translation:  जहां हम औद्योगिक डिजाइन वस्तुओं और बिजली में सकते\n",
      "\n",
      "\n",
      "\n",
      "Input English sentence: a few oxymorons in one sentence\n",
      "Actual Hindi Translation:  और ये वाक्य विरोधाभास से भरा है। \n",
      "Predicted Hindi Translation:  और ये वाक्य वाक्य करने वाले मिलता है \n",
      "\n",
      "\n",
      "\n",
      "Input English sentence: but they would give her the broccoli if she liked the broccoli\n",
      "Actual Hindi Translation:  और गोभी देते थे अगर उसे गोभी पसंद थी। \n",
      "Predicted Hindi Translation:  और उन्हें दुकान में थे वो कंप्यूटर के बाद \n",
      "\n",
      "\n",
      "\n",
      "Input English sentence: and on top of all off these rules\n",
      "Actual Hindi Translation:  और अगर ये नियमों काफी नहीं हैं \n",
      "Predicted Hindi Translation:  और उन पर अधिकांश लोगों वे सच हैं \n",
      "\n",
      "\n",
      "\n",
      "Input English sentence: someday little robots will go\n",
      "Actual Hindi Translation:  एक दिन छोटे रोबोट्स हमारी धमनियों \n",
      "Predicted Hindi Translation:  एक दिन छोटे रोबोट्स में होते हैं \n",
      "\n",
      "\n",
      "\n"
     ]
    }
   ],
   "source": [
    "for _ in range(5):\n",
    "    k += 1\n",
    "    (input_seq, actual_output), _ = next(train_gen)\n",
    "    decoded_sentence = decode_sequence(input_seq)\n",
    "    print('Input English sentence:', X_train[k:k+1].values[0])\n",
    "    print('Actual Hindi Translation:', y_train[k:k+1].values[0][6:-4])\n",
    "    print('Predicted Hindi Translation:', decoded_sentence[:-4])\n",
    "    print('\\n\\n')"
   ]
  }
 ],
 "metadata": {
  "kernelspec": {
   "display_name": "Python 3",
   "language": "python",
   "name": "python3"
  },
  "language_info": {
   "codemirror_mode": {
    "name": "ipython",
    "version": 3
   },
   "file_extension": ".py",
   "mimetype": "text/x-python",
   "name": "python",
   "nbconvert_exporter": "python",
   "pygments_lexer": "ipython3",
   "version": "3.6.13"
  }
 },
 "nbformat": 4,
 "nbformat_minor": 5
}
